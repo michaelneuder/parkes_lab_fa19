{
 "cells": [
  {
   "cell_type": "code",
   "execution_count": 12,
   "metadata": {},
   "outputs": [],
   "source": [
    "import environmentv1 as e\n",
    "import numpy as np\n",
    "import progressbar as pb"
   ]
  },
  {
   "cell_type": "code",
   "execution_count": 10,
   "metadata": {},
   "outputs": [],
   "source": [
    "opt_policy = np.asarray([\n",
    "[0, 0, 0, 0, 0, 0, 0, 0, 0],\n",
    "[2, 2, 2, 0, 0, 0, 0, 0, 0],\n",
    "[2, 1, 2, 2, 0, 0, 0, 0, 0], \n",
    "[2, 2, 1, 2, 2, 2, 0, 0, 0],\n",
    "[2, 2, 2, 1, 2, 2, 2, 0, 0],\n",
    "[2, 2, 2, 2, 1, 2, 2, 2, 0],\n",
    "[2, 2, 2, 2, 2, 1, 2, 2, 2],\n",
    "[2, 2, 2, 2, 2, 2, 1, 2, 2],\n",
    "[1, 1, 1, 1, 1, 1, 1, 1, 2]\n",
    "])"
   ]
  },
  {
   "cell_type": "code",
   "execution_count": 15,
   "metadata": {},
   "outputs": [],
   "source": [
    "episodes = 1000\n",
    "length = 1000\n",
    "alpha = 0.4\n",
    "rho = 0.47370147705078125\n",
    "T = 9"
   ]
  },
  {
   "cell_type": "code",
   "execution_count": 16,
   "metadata": {},
   "outputs": [],
   "source": [
    "env = e.Environment(alpha, T)"
   ]
  },
  {
   "cell_type": "code",
   "execution_count": 17,
   "metadata": {},
   "outputs": [],
   "source": [
    "def evalReward(reward):\n",
    "    reward = (1 - rho) * reward[0] - rho * reward[1]\n",
    "    return reward"
   ]
  },
  {
   "cell_type": "code",
   "execution_count": 20,
   "metadata": {},
   "outputs": [
    {
     "name": "stderr",
     "output_type": "stream",
     "text": [
      "100% (1000 of 1000) |####################| Elapsed Time: 0:00:10 Time:  0:00:10\n"
     ]
    }
   ],
   "source": [
    "rewards = []\n",
    "bar = pb.ProgressBar()\n",
    "for episode in bar(range(episodes)):\n",
    "    _ = env.reset()\n",
    "    current_reward = 0\n",
    "    for _ in range(length):\n",
    "        a, h = env.current_state\n",
    "        if np.random.uniform() < 0.1:\n",
    "            action = np.random.randint(3)\n",
    "        else:\n",
    "            action = opt_policy[(a,h)]\n",
    "        _, reward = env.takeAction(action)\n",
    "        current_reward += evalReward(reward)\n",
    "    rewards.append(current_reward)"
   ]
  },
  {
   "cell_type": "code",
   "execution_count": 21,
   "metadata": {},
   "outputs": [
    {
     "data": {
      "text/plain": [
       "-132.99724391937255"
      ]
     },
     "execution_count": 21,
     "metadata": {},
     "output_type": "execute_result"
    }
   ],
   "source": [
    "np.mean(rewards)"
   ]
  }
 ],
 "metadata": {
  "kernelspec": {
   "display_name": "Python 3",
   "language": "python",
   "name": "python3"
  },
  "language_info": {
   "codemirror_mode": {
    "name": "ipython",
    "version": 3
   },
   "file_extension": ".py",
   "mimetype": "text/x-python",
   "name": "python",
   "nbconvert_exporter": "python",
   "pygments_lexer": "ipython3",
   "version": "3.6.8"
  }
 },
 "nbformat": 4,
 "nbformat_minor": 2
}

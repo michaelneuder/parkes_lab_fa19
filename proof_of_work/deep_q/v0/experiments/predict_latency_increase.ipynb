{
 "cells": [
  {
   "cell_type": "code",
   "execution_count": 1,
   "metadata": {},
   "outputs": [
    {
     "name": "stderr",
     "output_type": "stream",
     "text": [
      "Using TensorFlow backend.\n"
     ]
    }
   ],
   "source": [
    "from keras.models import clone_model\n",
    "from keras.models import load_model\n",
    "from keras.models import Sequential\n",
    "from keras.layers import Dense\n",
    "from keras.optimizers import Adam\n",
    "import matplotlib.pyplot as plt\n",
    "import numpy as np\n",
    "import progressbar\n",
    "import time\n",
    "import util"
   ]
  },
  {
   "cell_type": "code",
   "execution_count": 2,
   "metadata": {},
   "outputs": [],
   "source": [
    "def syncModels(target_model):\n",
    "    new_model = util.createModel(0.001)\n",
    "    target_model = clone_model(new_model)\n",
    "    target_model.set_weights(new_model.get_weights())"
   ]
  },
  {
   "cell_type": "code",
   "execution_count": 11,
   "metadata": {},
   "outputs": [
    {
     "name": "stderr",
     "output_type": "stream",
     "text": [
      "100% (20000 of 20000) |##################| Elapsed Time: 0:01:16 Time:  0:01:16\n"
     ]
    }
   ],
   "source": [
    "target_model = util.createModel(0.001)\n",
    "timings = []\n",
    "bar = progressbar.ProgressBar()\n",
    "for i in bar(range(int(2e4))):\n",
    "    demo_minibatch = [[np.random.randint(9), np.random.randint(9)] for _ in range(32)]\n",
    "    if i % 1000 == 0:\n",
    "        syncModels(target_model)\n",
    "        target_model.set_weights(np.asarray(target_model.get_weights()) + np.random.uniform())\n",
    "    start_time = time.time()\n",
    "    target_model.predict(np.asarray(demo_minibatch))\n",
    "    timings.append(time.time() - start_time)"
   ]
  },
  {
   "cell_type": "code",
   "execution_count": 13,
   "metadata": {},
   "outputs": [
    {
     "data": {
      "text/plain": [
       "[array([[ 9.822376 ,  9.872054 , 10.178028 ,  9.757039 ,  9.810946 ,\n",
       "          9.342943 , 10.0436325, 10.374304 ,  9.852768 ,  9.590931 ,\n",
       "          9.469362 , 10.251792 ,  9.829036 ,  9.339286 , 10.397183 ,\n",
       "          9.9868765],\n",
       "        [ 9.6566305, 10.213317 ,  9.503201 ,  9.583762 , 10.462548 ,\n",
       "          9.44364  , 10.002374 , 10.018571 ,  9.826713 ,  9.326704 ,\n",
       "          9.7816925,  9.446977 ,  9.528548 ,  9.545225 ,  9.368934 ,\n",
       "          9.9991865]], dtype=float32),\n",
       " array([9.890364, 9.890364, 9.890364, 9.890364, 9.890364, 9.890364,\n",
       "        9.890364, 9.890364, 9.890364, 9.890364, 9.890364, 9.890364,\n",
       "        9.890364, 9.890364, 9.890364, 9.890364], dtype=float32),\n",
       " array([[10.110461 , 10.15337  ,  9.979401 , 10.14947  , 10.001364 ,\n",
       "         10.071091 , 10.224658 ,  9.69548  ],\n",
       "        [10.249536 , 10.089673 , 10.292707 ,  9.412033 ,  9.593855 ,\n",
       "         10.011313 ,  9.499792 , 10.202067 ],\n",
       "        [ 9.608887 ,  9.648381 ,  9.850054 ,  9.768242 ,  9.9975815,\n",
       "          9.651763 ,  9.663525 ,  9.623599 ],\n",
       "        [10.3097925, 10.122895 , 10.01203  ,  9.432945 ,  9.940879 ,\n",
       "         10.111077 , 10.164877 ,  9.425446 ],\n",
       "        [ 9.920509 ,  9.516299 ,  9.81555  , 10.315808 ,  9.868153 ,\n",
       "          9.599636 ,  9.600437 ,  9.761987 ],\n",
       "        [10.375416 , 10.069166 , 10.263386 ,  9.942282 , 10.160534 ,\n",
       "         10.22401  ,  9.607043 ,  9.455777 ],\n",
       "        [10.0784645, 10.323703 , 10.181054 ,  9.4043255, 10.156322 ,\n",
       "         10.219367 , 10.207084 ,  9.746801 ],\n",
       "        [10.057351 ,  9.853626 ,  9.476667 , 10.323301 ,  9.849178 ,\n",
       "          9.57114  ,  9.473693 ,  9.6037035],\n",
       "        [ 9.649377 ,  9.390593 , 10.282983 ,  9.852277 , 10.338935 ,\n",
       "          9.609124 ,  9.550348 , 10.221661 ],\n",
       "        [ 9.728124 , 10.242056 ,  9.980402 ,  9.655679 ,  9.593468 ,\n",
       "          9.781944 ,  9.743188 , 10.241844 ],\n",
       "        [10.186103 ,  9.484288 ,  9.987299 ,  9.420377 , 10.38336  ,\n",
       "          9.538323 ,  9.704437 , 10.251676 ],\n",
       "        [10.010638 ,  9.770532 ,  9.602972 , 10.352328 ,  9.784845 ,\n",
       "          9.85837  ,  9.435659 ,  9.973424 ],\n",
       "        [ 9.455086 ,  9.438384 , 10.038959 ,  9.494426 , 10.247901 ,\n",
       "          9.650771 ,  9.448643 ,  9.630991 ],\n",
       "        [ 9.982313 ,  9.398767 , 10.308982 ,  9.842033 , 10.305913 ,\n",
       "          9.484467 ,  9.816121 , 10.376515 ],\n",
       "        [ 9.622173 ,  9.4421015, 10.125324 ,  9.62195  ,  9.901198 ,\n",
       "          9.438619 ,  9.994328 ,  9.502764 ],\n",
       "        [ 9.877831 ,  9.58271  ,  9.481434 ,  9.524804 ,  9.790531 ,\n",
       "          9.933022 ,  9.391403 , 10.332726 ]], dtype=float32),\n",
       " array([9.890364, 9.890364, 9.890364, 9.890364, 9.890364, 9.890364,\n",
       "        9.890364, 9.890364], dtype=float32),\n",
       " array([[ 9.452834,  9.409449, 10.409332],\n",
       "        [10.588253,  9.206801,  9.318105],\n",
       "        [10.355217,  9.332193,  9.203345],\n",
       "        [10.421884, 10.305369,  9.587721],\n",
       "        [10.535632,  9.602151,  9.977078],\n",
       "        [10.073047, 10.33708 ,  9.950584],\n",
       "        [ 9.920796,  9.92949 ,  9.23559 ],\n",
       "        [10.587485, 10.228948,  9.410402]], dtype=float32),\n",
       " array([9.890364, 9.890364, 9.890364], dtype=float32)]"
      ]
     },
     "execution_count": 13,
     "metadata": {},
     "output_type": "execute_result"
    }
   ],
   "source": [
    "target_model.get_weights()"
   ]
  },
  {
   "cell_type": "code",
   "execution_count": 18,
   "metadata": {},
   "outputs": [
    {
     "data": {
      "text/plain": [
       "[<matplotlib.lines.Line2D at 0x7fe897c30eb8>]"
      ]
     },
     "execution_count": 18,
     "metadata": {},
     "output_type": "execute_result"
    },
    {
     "data": {
      "image/png": "[encoded data removed]",
      "text/plain": [
       "<Figure size 720x360 with 1 Axes>"
      ]
     },
     "metadata": {
      "needs_background": "light"
     },
     "output_type": "display_data"
    }
   ],
   "source": [
    "_f, ax = plt.subplots(figsize=(10,5))\n",
    "plt.style.use('seaborn-muted')\n",
    "ax.plot(timings)"
   ]
  }
 ],
 "metadata": {
  "kernelspec": {
   "display_name": "Python 3",
   "language": "python",
   "name": "python3"
  },
  "language_info": {
   "codemirror_mode": {
    "name": "ipython",
    "version": 3
   },
   "file_extension": ".py",
   "mimetype": "text/x-python",
   "name": "python",
   "nbconvert_exporter": "python",
   "pygments_lexer": "ipython3",
   "version": "3.6.8"
  }
 },
 "nbformat": 4,
 "nbformat_minor": 2
}

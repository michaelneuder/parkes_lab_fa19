{
 "cells": [
  {
   "cell_type": "code",
   "execution_count": 3,
   "metadata": {},
   "outputs": [],
   "source": [
    "import copy\n",
    "from keras.models import clone_model\n",
    "from keras.models import load_model\n",
    "from keras.models import Sequential\n",
    "from keras.layers import Dense\n",
    "from keras.optimizers import Adam\n",
    "import matplotlib.pyplot as plt\n",
    "import numpy as np\n",
    "import progressbar\n",
    "import time\n",
    "import util\n",
    "np.random.seed(0)"
   ]
  },
  {
   "cell_type": "code",
   "execution_count": 47,
   "metadata": {},
   "outputs": [
    {
     "name": "stdout",
     "output_type": "stream",
     "text": [
      "[[2. 2. 2. 2. 2. 2. 2. 2. 2.]\n",
      " [1. 2. 2. 0. 0. 0. 2. 2. 2.]\n",
      " [1. 1. 2. 2. 2. 0. 2. 0. 0.]\n",
      " [2. 1. 1. 1. 2. 2. 1. 1. 1.]\n",
      " [2. 1. 1. 1. 1. 2. 2. 1. 1.]\n",
      " [2. 1. 1. 1. 1. 1. 1. 1. 1.]\n",
      " [2. 1. 1. 1. 1. 1. 1. 1. 1.]\n",
      " [2. 1. 1. 1. 1. 1. 1. 1. 1.]\n",
      " [2. 1. 1. 1. 1. 1. 1. 1. 1.]]\n",
      "0 & \\wt & \\wt & \\wt & \\wt & \\wt & \\wt & \\wt & \\wt & \\wt \\\\ \n",
      "1 & \\ob & \\wt & \\wt & \\ag & \\ag & \\ag & \\wt & \\wt & \\wt \\\\ \n",
      "2 & \\ob & \\ob & \\wt & \\wt & \\wt & \\ag & \\wt & \\ag & \\ag \\\\ \n",
      "3 & \\wt & \\ob & \\ob & \\ob & \\wt & \\wt & \\ob & \\ob & \\ob \\\\ \n",
      "4 & \\wt & \\ob & \\ob & \\ob & \\ob & \\wt & \\wt & \\ob & \\ob \\\\ \n",
      "5 & \\wt & \\ob & \\ob & \\ob & \\ob & \\ob & \\ob & \\ob & \\ob \\\\ \n",
      "6 & \\wt & \\ob & \\ob & \\ob & \\ob & \\ob & \\ob & \\ob & \\ob \\\\ \n",
      "7 & \\wt & \\ob & \\ob & \\ob & \\ob & \\ob & \\ob & \\ob & \\ob \\\\ \n",
      "8 & \\wt & \\ob & \\ob & \\ob & \\ob & \\ob & \\ob & \\ob & \\ob \\\\ \n",
      "\n"
     ]
    }
   ],
   "source": [
    "model_number = 3000\n",
    "model = load_model('../saved_models/value_net_iter{0:06d}.h5'.format(model_number))\n",
    "analyzer = util.ResultsAnalyzer(model, None, None)\n",
    "end_policy = analyzer.extractPolicy()\n",
    "analyzer.processPolicy(end_policy)"
   ]
  }
 ],
 "metadata": {
  "kernelspec": {
   "display_name": "Python 3",
   "language": "python",
   "name": "python3"
  },
  "language_info": {
   "codemirror_mode": {
    "name": "ipython",
    "version": 3
   },
   "file_extension": ".py",
   "mimetype": "text/x-python",
   "name": "python",
   "nbconvert_exporter": "python",
   "pygments_lexer": "ipython3",
   "version": "3.6.8"
  }
 },
 "nbformat": 4,
 "nbformat_minor": 2
}

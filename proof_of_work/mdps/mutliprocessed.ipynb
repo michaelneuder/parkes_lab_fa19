{
 "cells": [
  {
   "cell_type": "code",
   "execution_count": 14,
   "metadata": {},
   "outputs": [],
   "source": [
    "from multiprocessing import Pool\n",
    "import mdptoolbox\n",
    "import matplotlib.pyplot as plt\n",
    "import numpy as np\n",
    "import scipy.sparse as ss"
   ]
  },
  {
   "cell_type": "code",
   "execution_count": 15,
   "metadata": {},
   "outputs": [],
   "source": [
    "def f(alpha):\n",
    "    result = []\n",
    "    maxForkLen = 75\n",
    "    numOfStates = (maxForkLen+1) * (maxForkLen+1) * 3\n",
    "    print('alpha: ', alpha)\n",
    "    result.append(alpha)\n",
    "    alphaPower = alpha\n",
    "    gammaRatio = 0\n",
    "    irrelevant = 0; relevant = 1; active = 2;\n",
    "    choices = 4\n",
    "    adopt = 0; override = 1; match = 2; wait = 3;\n",
    "    P = []; Rs = []; Rh = [];\n",
    "    for _ in range(choices):\n",
    "        P.append(ss.csr_matrix(np.zeros(shape=(numOfStates, numOfStates))))\n",
    "        Rs.append(ss.csr_matrix(np.zeros(shape=(numOfStates, numOfStates))))\n",
    "        Rh.append(ss.csr_matrix(np.zeros(shape=(numOfStates, numOfStates))))\n",
    "    # generate a state to integer mapping and list of states\n",
    "    state_mapping = {}\n",
    "    states = []\n",
    "    count = 0\n",
    "    for a in range(maxForkLen+1):\n",
    "        for h in range(maxForkLen+1):\n",
    "            for fork in range(3):\n",
    "                state_mapping[(a, h, fork)] = count\n",
    "                states.append((a, h, fork))\n",
    "                count += 1\n",
    "    # adopt\n",
    "    P[adopt][:, state_mapping[1, 0, irrelevant]] = alphaPower\n",
    "    P[adopt][:, state_mapping[0, 1, irrelevant]] = 1 - alphaPower\n",
    "    for state_index in range(numOfStates):\n",
    "        if state_index % 2000 == 0:\n",
    "            print('processing state', state_index)\n",
    "        a, h, fork = states[state_index]\n",
    "\n",
    "        # adopt rewards\n",
    "        Rh[adopt][state_index, state_mapping[1, 0, irrelevant]] = h\n",
    "        Rh[adopt][state_index, state_mapping[0, 1, irrelevant]] = h\n",
    "\n",
    "        # override\n",
    "        if a > h:\n",
    "            P[override][state_index, state_mapping[a-h, 0, irrelevant]] = alphaPower\n",
    "            Rs[override][state_index, state_mapping[a-h, 0, irrelevant]] = h+1\n",
    "            P[override][state_index, state_mapping[a-h-1, 1, relevant]] = 1 - alphaPower\n",
    "            Rs[override][state_index, state_mapping[a-h-1, 1, relevant]] = h+1\n",
    "        else:\n",
    "            P[override][state_index, 0] = 1\n",
    "            Rh[override][state_index, 0] = 10000\n",
    "\n",
    "        # wait\n",
    "        if (fork != active) and (a < maxForkLen) and (h < maxForkLen):\n",
    "            P[wait][state_index, state_mapping[a+1, h, irrelevant]] = alphaPower\n",
    "            P[wait][state_index, state_mapping[a, h+1, relevant]] = 1 - alphaPower\n",
    "        elif (fork == active) and (a > h) and (h > 0) and (a < maxForkLen) and (h < maxForkLen): \n",
    "            P[wait][state_index, state_mapping[a+1, h, active]] = alphaPower\n",
    "            P[wait][state_index, state_mapping[a-h, 1, relevant]] = gammaRatio*(1-alphaPower)\n",
    "            Rs[wait][state_index, state_mapping[a-h, 1, relevant]] = h\n",
    "            P[wait][state_index, state_mapping[a, h+1, relevant]] = (1-gammaRatio)*(1-alphaPower)\n",
    "        else:\n",
    "            P[wait][state_index, 0] = 1\n",
    "            Rh[wait][state_index, 0] = 10000\n",
    "\n",
    "        # match\n",
    "        if (fork == relevant) and (a >= h) and (h > 0) and (a < maxForkLen) and (h < maxForkLen):\n",
    "            P[match][state_index, state_mapping[a+1, h, active]] = alphaPower\n",
    "            P[match][state_index, state_mapping[a-h, 1, relevant]] = gammaRatio*(1-alphaPower)\n",
    "            Rs[match][state_index, state_mapping[a-h, 1, relevant]] = h\n",
    "            P[match][state_index, state_mapping[a, h+1, relevant]] = (1-gammaRatio)*(1-alphaPower)\n",
    "        else:\n",
    "            P[match][state_index, 0] = 1\n",
    "            Rh[match][state_index, 0] = 10000\n",
    "    epsilon = 0.0001\n",
    "    lowRho = 0\n",
    "    highRho = 1\n",
    "    while(highRho - lowRho > epsilon/8):\n",
    "        rho = (highRho + lowRho) / 2;\n",
    "        Wrho = []\n",
    "        for i in range(choices):\n",
    "            Wrho.append((1-rho)*Rs[i] - rho*Rh[i])\n",
    "        rvi = mdptoolbox.mdp.RelativeValueIteration(P, Wrho, epsilon/8)\n",
    "        rvi.run()\n",
    "        lowerBoundPolicy = rvi.policy\n",
    "        reward = rvi.average_reward\n",
    "        if reward > 0:\n",
    "            lowRho = rho\n",
    "        else:\n",
    "            highRho = rho\n",
    "    print('alpha: ', alphaPower, 'lower bound reward:', rho)\n",
    "    result.append(rho)\n",
    "    lowerBoundRho = rho\n",
    "    lowRho = rho\n",
    "    highRho = min(rho+0.1, 1)\n",
    "    while (highRho - lowRho) > (epsilon / 8):\n",
    "        rho = (highRho + lowRho) / 2\n",
    "        for state_index in range(numOfStates):\n",
    "            a, h, fork = states[state_index]\n",
    "            if a == maxForkLen:\n",
    "                expr = (1-rho)*alphaPower*(1-alphaPower)/(1-2*alphaPower)**2+0.5*((a-h)/(1-2*alphaPower)+a+h)\n",
    "                Rs[adopt][state_index, state_mapping[1, 0, irrelevant]] = expr\n",
    "                Rs[adopt][state_index, state_mapping[0, 1, irrelevant]] = expr\n",
    "                Rs[adopt][state_index, state_mapping[1, 0, irrelevant]] = 0\n",
    "                Rs[adopt][state_index, state_mapping[0, 1, irrelevant]] = 0\n",
    "            elif h == maxForkLen:\n",
    "                expr1 = (1 - np.power(alphaPower/(1-alphaPower), h - a)) * (-1*rho*h)\n",
    "                expr2 = np.power(alphaPower/(1-alphaPower), h - a) * (1 - rho)\n",
    "                expr3 = (alphaPower * (1-alphaPower)) / (np.power(1-2*alphaPower, 2)) + (h - a) / (1- 2 * alphaPower)\n",
    "                expr_total = expr1 + expr2 * expr3\n",
    "                Rs[adopt][state_index, state_mapping[1, 0, irrelevant]] = expr_total\n",
    "                Rs[adopt][state_index, state_mapping[0, 1, irrelevant]] = expr_total\n",
    "                Rh[adopt][state_index, state_mapping[1, 0, irrelevant]] = 0\n",
    "                Rh[adopt][state_index, state_mapping[0, 1, irrelevant]] = 0\n",
    "        Wrho = []\n",
    "        for i in range(choices):\n",
    "            Wrho.append((1-rho)*Rs[i] - rho*Rh[i])\n",
    "        rhoPrime = max(lowRho - epsilon/4, 0)\n",
    "        rvi = mdptoolbox.mdp.RelativeValueIteration(P, Wrho, epsilon/8)\n",
    "        rvi.run()\n",
    "        reward = rvi.average_reward\n",
    "        policy = rvi.policy\n",
    "        if reward > 0:\n",
    "            lowRho = rho\n",
    "        else:\n",
    "            highRho = rho\n",
    "    print('alpha: ', alphaPower, 'upper bound reward', rho)\n",
    "    result.append(rho)\n",
    "    return result"
   ]
  },
  {
   "cell_type": "code",
   "execution_count": 16,
   "metadata": {},
   "outputs": [
    {
     "name": "stdout",
     "output_type": "stream",
     "text": [
      "alpha:  0.05\n",
      "alpha:  0.1\n",
      "alpha:  0.2\n",
      "alpha:  0.15000000000000002\n"
     ]
    },
    {
     "name": "stderr",
     "output_type": "stream",
     "text": [
      "/home/michaelneuder/miniconda3/lib/python3.6/site-packages/ipykernel_launcher.py:28: SparseEfficiencyWarning: Changing the sparsity structure of a csr_matrix is expensive. lil_matrix is more efficient.\n",
      "/home/michaelneuder/miniconda3/lib/python3.6/site-packages/ipykernel_launcher.py:28: SparseEfficiencyWarning: Changing the sparsity structure of a csr_matrix is expensive. lil_matrix is more efficient.\n",
      "/home/michaelneuder/miniconda3/lib/python3.6/site-packages/ipykernel_launcher.py:28: SparseEfficiencyWarning: Changing the sparsity structure of a csr_matrix is expensive. lil_matrix is more efficient.\n",
      "/home/michaelneuder/miniconda3/lib/python3.6/site-packages/ipykernel_launcher.py:29: SparseEfficiencyWarning: Changing the sparsity structure of a csr_matrix is expensive. lil_matrix is more efficient.\n",
      "/home/michaelneuder/miniconda3/lib/python3.6/site-packages/ipykernel_launcher.py:29: SparseEfficiencyWarning: Changing the sparsity structure of a csr_matrix is expensive. lil_matrix is more efficient.\n",
      "/home/michaelneuder/miniconda3/lib/python3.6/site-packages/ipykernel_launcher.py:29: SparseEfficiencyWarning: Changing the sparsity structure of a csr_matrix is expensive. lil_matrix is more efficient.\n",
      "/home/michaelneuder/miniconda3/lib/python3.6/site-packages/ipykernel_launcher.py:28: SparseEfficiencyWarning: Changing the sparsity structure of a csr_matrix is expensive. lil_matrix is more efficient.\n"
     ]
    },
    {
     "name": "stdout",
     "output_type": "stream",
     "text": [
      "processing state 0\n"
     ]
    },
    {
     "name": "stderr",
     "output_type": "stream",
     "text": [
      "/home/michaelneuder/miniconda3/lib/python3.6/site-packages/ipykernel_launcher.py:36: SparseEfficiencyWarning: Changing the sparsity structure of a csr_matrix is expensive. lil_matrix is more efficient.\n",
      "/home/michaelneuder/miniconda3/lib/python3.6/site-packages/ipykernel_launcher.py:37: SparseEfficiencyWarning: Changing the sparsity structure of a csr_matrix is expensive. lil_matrix is more efficient.\n",
      "/home/michaelneuder/miniconda3/lib/python3.6/site-packages/ipykernel_launcher.py:46: SparseEfficiencyWarning: Changing the sparsity structure of a csr_matrix is expensive. lil_matrix is more efficient.\n",
      "/home/michaelneuder/miniconda3/lib/python3.6/site-packages/ipykernel_launcher.py:47: SparseEfficiencyWarning: Changing the sparsity structure of a csr_matrix is expensive. lil_matrix is more efficient.\n",
      "/home/michaelneuder/miniconda3/lib/python3.6/site-packages/ipykernel_launcher.py:51: SparseEfficiencyWarning: Changing the sparsity structure of a csr_matrix is expensive. lil_matrix is more efficient.\n",
      "/home/michaelneuder/miniconda3/lib/python3.6/site-packages/ipykernel_launcher.py:52: SparseEfficiencyWarning: Changing the sparsity structure of a csr_matrix is expensive. lil_matrix is more efficient.\n",
      "/home/michaelneuder/miniconda3/lib/python3.6/site-packages/ipykernel_launcher.py:69: SparseEfficiencyWarning: Changing the sparsity structure of a csr_matrix is expensive. lil_matrix is more efficient.\n",
      "/home/michaelneuder/miniconda3/lib/python3.6/site-packages/ipykernel_launcher.py:70: SparseEfficiencyWarning: Changing the sparsity structure of a csr_matrix is expensive. lil_matrix is more efficient.\n",
      "/home/michaelneuder/miniconda3/lib/python3.6/site-packages/ipykernel_launcher.py:59: SparseEfficiencyWarning: Changing the sparsity structure of a csr_matrix is expensive. lil_matrix is more efficient.\n",
      "/home/michaelneuder/miniconda3/lib/python3.6/site-packages/ipykernel_launcher.py:60: SparseEfficiencyWarning: Changing the sparsity structure of a csr_matrix is expensive. lil_matrix is more efficient.\n"
     ]
    },
    {
     "name": "stdout",
     "output_type": "stream",
     "text": [
      "processing state 0\n"
     ]
    },
    {
     "name": "stderr",
     "output_type": "stream",
     "text": [
      "/home/michaelneuder/miniconda3/lib/python3.6/site-packages/ipykernel_launcher.py:36: SparseEfficiencyWarning: Changing the sparsity structure of a csr_matrix is expensive. lil_matrix is more efficient.\n",
      "/home/michaelneuder/miniconda3/lib/python3.6/site-packages/ipykernel_launcher.py:37: SparseEfficiencyWarning: Changing the sparsity structure of a csr_matrix is expensive. lil_matrix is more efficient.\n",
      "/home/michaelneuder/miniconda3/lib/python3.6/site-packages/ipykernel_launcher.py:46: SparseEfficiencyWarning: Changing the sparsity structure of a csr_matrix is expensive. lil_matrix is more efficient.\n",
      "/home/michaelneuder/miniconda3/lib/python3.6/site-packages/ipykernel_launcher.py:47: SparseEfficiencyWarning: Changing the sparsity structure of a csr_matrix is expensive. lil_matrix is more efficient.\n",
      "/home/michaelneuder/miniconda3/lib/python3.6/site-packages/ipykernel_launcher.py:51: SparseEfficiencyWarning: Changing the sparsity structure of a csr_matrix is expensive. lil_matrix is more efficient.\n",
      "/home/michaelneuder/miniconda3/lib/python3.6/site-packages/ipykernel_launcher.py:52: SparseEfficiencyWarning: Changing the sparsity structure of a csr_matrix is expensive. lil_matrix is more efficient.\n",
      "/home/michaelneuder/miniconda3/lib/python3.6/site-packages/ipykernel_launcher.py:69: SparseEfficiencyWarning: Changing the sparsity structure of a csr_matrix is expensive. lil_matrix is more efficient.\n",
      "/home/michaelneuder/miniconda3/lib/python3.6/site-packages/ipykernel_launcher.py:70: SparseEfficiencyWarning: Changing the sparsity structure of a csr_matrix is expensive. lil_matrix is more efficient.\n"
     ]
    },
    {
     "name": "stdout",
     "output_type": "stream",
     "text": [
      "processing state 0\n"
     ]
    },
    {
     "name": "stderr",
     "output_type": "stream",
     "text": [
      "/home/michaelneuder/miniconda3/lib/python3.6/site-packages/ipykernel_launcher.py:36: SparseEfficiencyWarning: Changing the sparsity structure of a csr_matrix is expensive. lil_matrix is more efficient.\n",
      "/home/michaelneuder/miniconda3/lib/python3.6/site-packages/ipykernel_launcher.py:37: SparseEfficiencyWarning: Changing the sparsity structure of a csr_matrix is expensive. lil_matrix is more efficient.\n",
      "/home/michaelneuder/miniconda3/lib/python3.6/site-packages/ipykernel_launcher.py:46: SparseEfficiencyWarning: Changing the sparsity structure of a csr_matrix is expensive. lil_matrix is more efficient.\n",
      "/home/michaelneuder/miniconda3/lib/python3.6/site-packages/ipykernel_launcher.py:47: SparseEfficiencyWarning: Changing the sparsity structure of a csr_matrix is expensive. lil_matrix is more efficient.\n",
      "/home/michaelneuder/miniconda3/lib/python3.6/site-packages/ipykernel_launcher.py:51: SparseEfficiencyWarning: Changing the sparsity structure of a csr_matrix is expensive. lil_matrix is more efficient.\n",
      "/home/michaelneuder/miniconda3/lib/python3.6/site-packages/ipykernel_launcher.py:59: SparseEfficiencyWarning: Changing the sparsity structure of a csr_matrix is expensive. lil_matrix is more efficient.\n",
      "/home/michaelneuder/miniconda3/lib/python3.6/site-packages/ipykernel_launcher.py:52: SparseEfficiencyWarning: Changing the sparsity structure of a csr_matrix is expensive. lil_matrix is more efficient.\n",
      "/home/michaelneuder/miniconda3/lib/python3.6/site-packages/ipykernel_launcher.py:60: SparseEfficiencyWarning: Changing the sparsity structure of a csr_matrix is expensive. lil_matrix is more efficient.\n",
      "/home/michaelneuder/miniconda3/lib/python3.6/site-packages/ipykernel_launcher.py:69: SparseEfficiencyWarning: Changing the sparsity structure of a csr_matrix is expensive. lil_matrix is more efficient.\n",
      "/home/michaelneuder/miniconda3/lib/python3.6/site-packages/ipykernel_launcher.py:70: SparseEfficiencyWarning: Changing the sparsity structure of a csr_matrix is expensive. lil_matrix is more efficient.\n",
      "/home/michaelneuder/miniconda3/lib/python3.6/site-packages/ipykernel_launcher.py:59: SparseEfficiencyWarning: Changing the sparsity structure of a csr_matrix is expensive. lil_matrix is more efficient.\n",
      "/home/michaelneuder/miniconda3/lib/python3.6/site-packages/ipykernel_launcher.py:60: SparseEfficiencyWarning: Changing the sparsity structure of a csr_matrix is expensive. lil_matrix is more efficient.\n",
      "/home/michaelneuder/miniconda3/lib/python3.6/site-packages/ipykernel_launcher.py:29: SparseEfficiencyWarning: Changing the sparsity structure of a csr_matrix is expensive. lil_matrix is more efficient.\n"
     ]
    },
    {
     "name": "stdout",
     "output_type": "stream",
     "text": [
      "processing state 0\n"
     ]
    },
    {
     "name": "stderr",
     "output_type": "stream",
     "text": [
      "/home/michaelneuder/miniconda3/lib/python3.6/site-packages/ipykernel_launcher.py:36: SparseEfficiencyWarning: Changing the sparsity structure of a csr_matrix is expensive. lil_matrix is more efficient.\n",
      "/home/michaelneuder/miniconda3/lib/python3.6/site-packages/ipykernel_launcher.py:37: SparseEfficiencyWarning: Changing the sparsity structure of a csr_matrix is expensive. lil_matrix is more efficient.\n",
      "/home/michaelneuder/miniconda3/lib/python3.6/site-packages/ipykernel_launcher.py:46: SparseEfficiencyWarning: Changing the sparsity structure of a csr_matrix is expensive. lil_matrix is more efficient.\n",
      "/home/michaelneuder/miniconda3/lib/python3.6/site-packages/ipykernel_launcher.py:47: SparseEfficiencyWarning: Changing the sparsity structure of a csr_matrix is expensive. lil_matrix is more efficient.\n",
      "/home/michaelneuder/miniconda3/lib/python3.6/site-packages/ipykernel_launcher.py:51: SparseEfficiencyWarning: Changing the sparsity structure of a csr_matrix is expensive. lil_matrix is more efficient.\n",
      "/home/michaelneuder/miniconda3/lib/python3.6/site-packages/ipykernel_launcher.py:52: SparseEfficiencyWarning: Changing the sparsity structure of a csr_matrix is expensive. lil_matrix is more efficient.\n",
      "/home/michaelneuder/miniconda3/lib/python3.6/site-packages/ipykernel_launcher.py:69: SparseEfficiencyWarning: Changing the sparsity structure of a csr_matrix is expensive. lil_matrix is more efficient.\n",
      "/home/michaelneuder/miniconda3/lib/python3.6/site-packages/ipykernel_launcher.py:70: SparseEfficiencyWarning: Changing the sparsity structure of a csr_matrix is expensive. lil_matrix is more efficient.\n",
      "/home/michaelneuder/miniconda3/lib/python3.6/site-packages/ipykernel_launcher.py:59: SparseEfficiencyWarning: Changing the sparsity structure of a csr_matrix is expensive. lil_matrix is more efficient.\n",
      "/home/michaelneuder/miniconda3/lib/python3.6/site-packages/ipykernel_launcher.py:60: SparseEfficiencyWarning: Changing the sparsity structure of a csr_matrix is expensive. lil_matrix is more efficient.\n",
      "/home/michaelneuder/miniconda3/lib/python3.6/site-packages/ipykernel_launcher.py:41: SparseEfficiencyWarning: Changing the sparsity structure of a csr_matrix is expensive. lil_matrix is more efficient.\n",
      "/home/michaelneuder/miniconda3/lib/python3.6/site-packages/ipykernel_launcher.py:42: SparseEfficiencyWarning: Changing the sparsity structure of a csr_matrix is expensive. lil_matrix is more efficient.\n",
      "/home/michaelneuder/miniconda3/lib/python3.6/site-packages/ipykernel_launcher.py:43: SparseEfficiencyWarning: Changing the sparsity structure of a csr_matrix is expensive. lil_matrix is more efficient.\n",
      "/home/michaelneuder/miniconda3/lib/python3.6/site-packages/ipykernel_launcher.py:44: SparseEfficiencyWarning: Changing the sparsity structure of a csr_matrix is expensive. lil_matrix is more efficient.\n",
      "/home/michaelneuder/miniconda3/lib/python3.6/site-packages/ipykernel_launcher.py:64: SparseEfficiencyWarning: Changing the sparsity structure of a csr_matrix is expensive. lil_matrix is more efficient.\n",
      "/home/michaelneuder/miniconda3/lib/python3.6/site-packages/ipykernel_launcher.py:65: SparseEfficiencyWarning: Changing the sparsity structure of a csr_matrix is expensive. lil_matrix is more efficient.\n",
      "/home/michaelneuder/miniconda3/lib/python3.6/site-packages/ipykernel_launcher.py:66: SparseEfficiencyWarning: Changing the sparsity structure of a csr_matrix is expensive. lil_matrix is more efficient.\n",
      "/home/michaelneuder/miniconda3/lib/python3.6/site-packages/ipykernel_launcher.py:67: SparseEfficiencyWarning: Changing the sparsity structure of a csr_matrix is expensive. lil_matrix is more efficient.\n",
      "/home/michaelneuder/miniconda3/lib/python3.6/site-packages/ipykernel_launcher.py:41: SparseEfficiencyWarning: Changing the sparsity structure of a csr_matrix is expensive. lil_matrix is more efficient.\n",
      "/home/michaelneuder/miniconda3/lib/python3.6/site-packages/ipykernel_launcher.py:42: SparseEfficiencyWarning: Changing the sparsity structure of a csr_matrix is expensive. lil_matrix is more efficient.\n",
      "/home/michaelneuder/miniconda3/lib/python3.6/site-packages/ipykernel_launcher.py:43: SparseEfficiencyWarning: Changing the sparsity structure of a csr_matrix is expensive. lil_matrix is more efficient.\n",
      "/home/michaelneuder/miniconda3/lib/python3.6/site-packages/ipykernel_launcher.py:41: SparseEfficiencyWarning: Changing the sparsity structure of a csr_matrix is expensive. lil_matrix is more efficient.\n",
      "/home/michaelneuder/miniconda3/lib/python3.6/site-packages/ipykernel_launcher.py:44: SparseEfficiencyWarning: Changing the sparsity structure of a csr_matrix is expensive. lil_matrix is more efficient.\n",
      "/home/michaelneuder/miniconda3/lib/python3.6/site-packages/ipykernel_launcher.py:42: SparseEfficiencyWarning: Changing the sparsity structure of a csr_matrix is expensive. lil_matrix is more efficient.\n",
      "/home/michaelneuder/miniconda3/lib/python3.6/site-packages/ipykernel_launcher.py:43: SparseEfficiencyWarning: Changing the sparsity structure of a csr_matrix is expensive. lil_matrix is more efficient.\n",
      "/home/michaelneuder/miniconda3/lib/python3.6/site-packages/ipykernel_launcher.py:44: SparseEfficiencyWarning: Changing the sparsity structure of a csr_matrix is expensive. lil_matrix is more efficient.\n",
      "/home/michaelneuder/miniconda3/lib/python3.6/site-packages/ipykernel_launcher.py:64: SparseEfficiencyWarning: Changing the sparsity structure of a csr_matrix is expensive. lil_matrix is more efficient.\n",
      "/home/michaelneuder/miniconda3/lib/python3.6/site-packages/ipykernel_launcher.py:64: SparseEfficiencyWarning: Changing the sparsity structure of a csr_matrix is expensive. lil_matrix is more efficient.\n",
      "/home/michaelneuder/miniconda3/lib/python3.6/site-packages/ipykernel_launcher.py:65: SparseEfficiencyWarning: Changing the sparsity structure of a csr_matrix is expensive. lil_matrix is more efficient.\n",
      "/home/michaelneuder/miniconda3/lib/python3.6/site-packages/ipykernel_launcher.py:65: SparseEfficiencyWarning: Changing the sparsity structure of a csr_matrix is expensive. lil_matrix is more efficient.\n",
      "/home/michaelneuder/miniconda3/lib/python3.6/site-packages/ipykernel_launcher.py:66: SparseEfficiencyWarning: Changing the sparsity structure of a csr_matrix is expensive. lil_matrix is more efficient.\n",
      "/home/michaelneuder/miniconda3/lib/python3.6/site-packages/ipykernel_launcher.py:66: SparseEfficiencyWarning: Changing the sparsity structure of a csr_matrix is expensive. lil_matrix is more efficient.\n",
      "/home/michaelneuder/miniconda3/lib/python3.6/site-packages/ipykernel_launcher.py:67: SparseEfficiencyWarning: Changing the sparsity structure of a csr_matrix is expensive. lil_matrix is more efficient.\n",
      "/home/michaelneuder/miniconda3/lib/python3.6/site-packages/ipykernel_launcher.py:67: SparseEfficiencyWarning: Changing the sparsity structure of a csr_matrix is expensive. lil_matrix is more efficient.\n",
      "/home/michaelneuder/miniconda3/lib/python3.6/site-packages/ipykernel_launcher.py:41: SparseEfficiencyWarning: Changing the sparsity structure of a csr_matrix is expensive. lil_matrix is more efficient.\n",
      "/home/michaelneuder/miniconda3/lib/python3.6/site-packages/ipykernel_launcher.py:42: SparseEfficiencyWarning: Changing the sparsity structure of a csr_matrix is expensive. lil_matrix is more efficient.\n",
      "/home/michaelneuder/miniconda3/lib/python3.6/site-packages/ipykernel_launcher.py:43: SparseEfficiencyWarning: Changing the sparsity structure of a csr_matrix is expensive. lil_matrix is more efficient.\n",
      "/home/michaelneuder/miniconda3/lib/python3.6/site-packages/ipykernel_launcher.py:44: SparseEfficiencyWarning: Changing the sparsity structure of a csr_matrix is expensive. lil_matrix is more efficient.\n",
      "/home/michaelneuder/miniconda3/lib/python3.6/site-packages/ipykernel_launcher.py:64: SparseEfficiencyWarning: Changing the sparsity structure of a csr_matrix is expensive. lil_matrix is more efficient.\n",
      "/home/michaelneuder/miniconda3/lib/python3.6/site-packages/ipykernel_launcher.py:65: SparseEfficiencyWarning: Changing the sparsity structure of a csr_matrix is expensive. lil_matrix is more efficient.\n",
      "/home/michaelneuder/miniconda3/lib/python3.6/site-packages/ipykernel_launcher.py:66: SparseEfficiencyWarning: Changing the sparsity structure of a csr_matrix is expensive. lil_matrix is more efficient.\n"
     ]
    },
    {
     "name": "stderr",
     "output_type": "stream",
     "text": [
      "/home/michaelneuder/miniconda3/lib/python3.6/site-packages/ipykernel_launcher.py:67: SparseEfficiencyWarning: Changing the sparsity structure of a csr_matrix is expensive. lil_matrix is more efficient.\n",
      "/home/michaelneuder/miniconda3/lib/python3.6/site-packages/ipykernel_launcher.py:54: SparseEfficiencyWarning: Changing the sparsity structure of a csr_matrix is expensive. lil_matrix is more efficient.\n",
      "/home/michaelneuder/miniconda3/lib/python3.6/site-packages/ipykernel_launcher.py:55: SparseEfficiencyWarning: Changing the sparsity structure of a csr_matrix is expensive. lil_matrix is more efficient.\n",
      "/home/michaelneuder/miniconda3/lib/python3.6/site-packages/ipykernel_launcher.py:56: SparseEfficiencyWarning: Changing the sparsity structure of a csr_matrix is expensive. lil_matrix is more efficient.\n",
      "/home/michaelneuder/miniconda3/lib/python3.6/site-packages/ipykernel_launcher.py:57: SparseEfficiencyWarning: Changing the sparsity structure of a csr_matrix is expensive. lil_matrix is more efficient.\n",
      "/home/michaelneuder/miniconda3/lib/python3.6/site-packages/ipykernel_launcher.py:54: SparseEfficiencyWarning: Changing the sparsity structure of a csr_matrix is expensive. lil_matrix is more efficient.\n",
      "/home/michaelneuder/miniconda3/lib/python3.6/site-packages/ipykernel_launcher.py:55: SparseEfficiencyWarning: Changing the sparsity structure of a csr_matrix is expensive. lil_matrix is more efficient.\n",
      "/home/michaelneuder/miniconda3/lib/python3.6/site-packages/ipykernel_launcher.py:56: SparseEfficiencyWarning: Changing the sparsity structure of a csr_matrix is expensive. lil_matrix is more efficient.\n",
      "/home/michaelneuder/miniconda3/lib/python3.6/site-packages/ipykernel_launcher.py:57: SparseEfficiencyWarning: Changing the sparsity structure of a csr_matrix is expensive. lil_matrix is more efficient.\n",
      "/home/michaelneuder/miniconda3/lib/python3.6/site-packages/ipykernel_launcher.py:54: SparseEfficiencyWarning: Changing the sparsity structure of a csr_matrix is expensive. lil_matrix is more efficient.\n",
      "/home/michaelneuder/miniconda3/lib/python3.6/site-packages/ipykernel_launcher.py:55: SparseEfficiencyWarning: Changing the sparsity structure of a csr_matrix is expensive. lil_matrix is more efficient.\n",
      "/home/michaelneuder/miniconda3/lib/python3.6/site-packages/ipykernel_launcher.py:56: SparseEfficiencyWarning: Changing the sparsity structure of a csr_matrix is expensive. lil_matrix is more efficient.\n",
      "/home/michaelneuder/miniconda3/lib/python3.6/site-packages/ipykernel_launcher.py:57: SparseEfficiencyWarning: Changing the sparsity structure of a csr_matrix is expensive. lil_matrix is more efficient.\n",
      "/home/michaelneuder/miniconda3/lib/python3.6/site-packages/ipykernel_launcher.py:54: SparseEfficiencyWarning: Changing the sparsity structure of a csr_matrix is expensive. lil_matrix is more efficient.\n",
      "/home/michaelneuder/miniconda3/lib/python3.6/site-packages/ipykernel_launcher.py:55: SparseEfficiencyWarning: Changing the sparsity structure of a csr_matrix is expensive. lil_matrix is more efficient.\n",
      "/home/michaelneuder/miniconda3/lib/python3.6/site-packages/ipykernel_launcher.py:56: SparseEfficiencyWarning: Changing the sparsity structure of a csr_matrix is expensive. lil_matrix is more efficient.\n",
      "/home/michaelneuder/miniconda3/lib/python3.6/site-packages/ipykernel_launcher.py:57: SparseEfficiencyWarning: Changing the sparsity structure of a csr_matrix is expensive. lil_matrix is more efficient.\n"
     ]
    },
    {
     "name": "stdout",
     "output_type": "stream",
     "text": [
      "processing state 2000\n",
      "processing state 2000\n",
      "processing state 2000\n",
      "processing state 2000\n",
      "processing state 4000\n",
      "processing state 4000\n",
      "processing state 4000\n",
      "processing state 4000\n",
      "processing state 6000\n",
      "processing state 6000\n",
      "processing state 6000\n",
      "processing state 6000\n",
      "processing state 8000\n",
      "processing state 8000\n",
      "processing state 8000\n",
      "processing state 8000\n",
      "processing state 10000\n",
      "processing state 10000\n",
      "processing state 10000\n",
      "processing state 10000\n",
      "processing state 12000\n",
      "processing state 12000\n",
      "processing state 12000\n",
      "processing state 12000\n",
      "processing state 14000\n",
      "processing state 14000\n",
      "processing state 14000\n",
      "processing state 14000\n",
      "processing state 16000\n",
      "processing state 16000\n",
      "processing state 16000\n",
      "processing state 16000\n",
      "alpha:  0.25\n",
      "alpha:  0.3\n",
      "alpha:  0.35000000000000003\n",
      "processing state 0\n",
      "processing state 0\n"
     ]
    },
    {
     "name": "stderr",
     "output_type": "stream",
     "text": [
      "/home/michaelneuder/miniconda3/lib/python3.6/site-packages/ipykernel_launcher.py:28: SparseEfficiencyWarning: Changing the sparsity structure of a csr_matrix is expensive. lil_matrix is more efficient.\n",
      "/home/michaelneuder/miniconda3/lib/python3.6/site-packages/ipykernel_launcher.py:29: SparseEfficiencyWarning: Changing the sparsity structure of a csr_matrix is expensive. lil_matrix is more efficient.\n"
     ]
    },
    {
     "name": "stdout",
     "output_type": "stream",
     "text": [
      "processing state 0\n"
     ]
    },
    {
     "name": "stderr",
     "output_type": "stream",
     "text": [
      "/home/michaelneuder/miniconda3/lib/python3.6/site-packages/ipykernel_launcher.py:36: SparseEfficiencyWarning: Changing the sparsity structure of a csr_matrix is expensive. lil_matrix is more efficient.\n",
      "/home/michaelneuder/miniconda3/lib/python3.6/site-packages/ipykernel_launcher.py:37: SparseEfficiencyWarning: Changing the sparsity structure of a csr_matrix is expensive. lil_matrix is more efficient.\n",
      "/home/michaelneuder/miniconda3/lib/python3.6/site-packages/ipykernel_launcher.py:46: SparseEfficiencyWarning: Changing the sparsity structure of a csr_matrix is expensive. lil_matrix is more efficient.\n",
      "/home/michaelneuder/miniconda3/lib/python3.6/site-packages/ipykernel_launcher.py:47: SparseEfficiencyWarning: Changing the sparsity structure of a csr_matrix is expensive. lil_matrix is more efficient.\n",
      "/home/michaelneuder/miniconda3/lib/python3.6/site-packages/ipykernel_launcher.py:51: SparseEfficiencyWarning: Changing the sparsity structure of a csr_matrix is expensive. lil_matrix is more efficient.\n",
      "/home/michaelneuder/miniconda3/lib/python3.6/site-packages/ipykernel_launcher.py:52: SparseEfficiencyWarning: Changing the sparsity structure of a csr_matrix is expensive. lil_matrix is more efficient.\n",
      "/home/michaelneuder/miniconda3/lib/python3.6/site-packages/ipykernel_launcher.py:69: SparseEfficiencyWarning: Changing the sparsity structure of a csr_matrix is expensive. lil_matrix is more efficient.\n",
      "/home/michaelneuder/miniconda3/lib/python3.6/site-packages/ipykernel_launcher.py:70: SparseEfficiencyWarning: Changing the sparsity structure of a csr_matrix is expensive. lil_matrix is more efficient.\n",
      "/home/michaelneuder/miniconda3/lib/python3.6/site-packages/ipykernel_launcher.py:59: SparseEfficiencyWarning: Changing the sparsity structure of a csr_matrix is expensive. lil_matrix is more efficient.\n",
      "/home/michaelneuder/miniconda3/lib/python3.6/site-packages/ipykernel_launcher.py:60: SparseEfficiencyWarning: Changing the sparsity structure of a csr_matrix is expensive. lil_matrix is more efficient.\n",
      "/home/michaelneuder/miniconda3/lib/python3.6/site-packages/ipykernel_launcher.py:41: SparseEfficiencyWarning: Changing the sparsity structure of a csr_matrix is expensive. lil_matrix is more efficient.\n",
      "/home/michaelneuder/miniconda3/lib/python3.6/site-packages/ipykernel_launcher.py:42: SparseEfficiencyWarning: Changing the sparsity structure of a csr_matrix is expensive. lil_matrix is more efficient.\n",
      "/home/michaelneuder/miniconda3/lib/python3.6/site-packages/ipykernel_launcher.py:43: SparseEfficiencyWarning: Changing the sparsity structure of a csr_matrix is expensive. lil_matrix is more efficient.\n",
      "/home/michaelneuder/miniconda3/lib/python3.6/site-packages/ipykernel_launcher.py:44: SparseEfficiencyWarning: Changing the sparsity structure of a csr_matrix is expensive. lil_matrix is more efficient.\n",
      "/home/michaelneuder/miniconda3/lib/python3.6/site-packages/ipykernel_launcher.py:64: SparseEfficiencyWarning: Changing the sparsity structure of a csr_matrix is expensive. lil_matrix is more efficient.\n",
      "/home/michaelneuder/miniconda3/lib/python3.6/site-packages/ipykernel_launcher.py:65: SparseEfficiencyWarning: Changing the sparsity structure of a csr_matrix is expensive. lil_matrix is more efficient.\n",
      "/home/michaelneuder/miniconda3/lib/python3.6/site-packages/ipykernel_launcher.py:66: SparseEfficiencyWarning: Changing the sparsity structure of a csr_matrix is expensive. lil_matrix is more efficient.\n",
      "/home/michaelneuder/miniconda3/lib/python3.6/site-packages/ipykernel_launcher.py:67: SparseEfficiencyWarning: Changing the sparsity structure of a csr_matrix is expensive. lil_matrix is more efficient.\n",
      "/home/michaelneuder/miniconda3/lib/python3.6/site-packages/ipykernel_launcher.py:54: SparseEfficiencyWarning: Changing the sparsity structure of a csr_matrix is expensive. lil_matrix is more efficient.\n",
      "/home/michaelneuder/miniconda3/lib/python3.6/site-packages/ipykernel_launcher.py:55: SparseEfficiencyWarning: Changing the sparsity structure of a csr_matrix is expensive. lil_matrix is more efficient.\n",
      "/home/michaelneuder/miniconda3/lib/python3.6/site-packages/ipykernel_launcher.py:56: SparseEfficiencyWarning: Changing the sparsity structure of a csr_matrix is expensive. lil_matrix is more efficient.\n",
      "/home/michaelneuder/miniconda3/lib/python3.6/site-packages/ipykernel_launcher.py:57: SparseEfficiencyWarning: Changing the sparsity structure of a csr_matrix is expensive. lil_matrix is more efficient.\n"
     ]
    },
    {
     "name": "stdout",
     "output_type": "stream",
     "text": [
      "processing state 2000\n",
      "processing state 2000\n",
      "processing state 2000\n",
      "processing state 4000\n",
      "processing state 4000\n",
      "processing state 4000\n",
      "processing state 6000\n",
      "processing state 6000\n",
      "processing state 6000\n",
      "processing state 8000\n",
      "processing state 8000\n",
      "processing state 8000\n",
      "processing state 10000\n",
      "processing state 10000\n",
      "processing state 10000\n",
      "processing state 12000\n",
      "processing state 12000\n",
      "processing state 12000\n",
      "processing state 14000\n",
      "processing state 14000\n",
      "processing state 14000\n",
      "processing state 16000\n",
      "processing state 16000\n",
      "processing state 16000\n",
      "alpha:  0.05 lower bound reward: 0.04999542236328125\n"
     ]
    },
    {
     "name": "stderr",
     "output_type": "stream",
     "text": [
      "/home/michaelneuder/miniconda3/lib/python3.6/site-packages/ipykernel_launcher.py:107: SparseEfficiencyWarning: Changing the sparsity structure of a csr_matrix is expensive. lil_matrix is more efficient.\n",
      "/home/michaelneuder/miniconda3/lib/python3.6/site-packages/ipykernel_launcher.py:108: SparseEfficiencyWarning: Changing the sparsity structure of a csr_matrix is expensive. lil_matrix is more efficient.\n",
      "/home/michaelneuder/miniconda3/lib/python3.6/site-packages/ipykernel_launcher.py:98: SparseEfficiencyWarning: Changing the sparsity structure of a csr_matrix is expensive. lil_matrix is more efficient.\n",
      "/home/michaelneuder/miniconda3/lib/python3.6/site-packages/ipykernel_launcher.py:99: SparseEfficiencyWarning: Changing the sparsity structure of a csr_matrix is expensive. lil_matrix is more efficient.\n"
     ]
    },
    {
     "name": "stdout",
     "output_type": "stream",
     "text": [
      "alpha:  0.4\n",
      "alpha:  0.45\n"
     ]
    },
    {
     "name": "stderr",
     "output_type": "stream",
     "text": [
      "/home/michaelneuder/miniconda3/lib/python3.6/site-packages/ipykernel_launcher.py:28: SparseEfficiencyWarning: Changing the sparsity structure of a csr_matrix is expensive. lil_matrix is more efficient.\n",
      "/home/michaelneuder/miniconda3/lib/python3.6/site-packages/ipykernel_launcher.py:29: SparseEfficiencyWarning: Changing the sparsity structure of a csr_matrix is expensive. lil_matrix is more efficient.\n"
     ]
    },
    {
     "name": "stdout",
     "output_type": "stream",
     "text": [
      "processing state 0\n"
     ]
    },
    {
     "name": "stderr",
     "output_type": "stream",
     "text": [
      "/home/michaelneuder/miniconda3/lib/python3.6/site-packages/ipykernel_launcher.py:36: SparseEfficiencyWarning: Changing the sparsity structure of a csr_matrix is expensive. lil_matrix is more efficient.\n",
      "/home/michaelneuder/miniconda3/lib/python3.6/site-packages/ipykernel_launcher.py:37: SparseEfficiencyWarning: Changing the sparsity structure of a csr_matrix is expensive. lil_matrix is more efficient.\n",
      "/home/michaelneuder/miniconda3/lib/python3.6/site-packages/ipykernel_launcher.py:46: SparseEfficiencyWarning: Changing the sparsity structure of a csr_matrix is expensive. lil_matrix is more efficient.\n",
      "/home/michaelneuder/miniconda3/lib/python3.6/site-packages/ipykernel_launcher.py:47: SparseEfficiencyWarning: Changing the sparsity structure of a csr_matrix is expensive. lil_matrix is more efficient.\n",
      "/home/michaelneuder/miniconda3/lib/python3.6/site-packages/ipykernel_launcher.py:51: SparseEfficiencyWarning: Changing the sparsity structure of a csr_matrix is expensive. lil_matrix is more efficient.\n",
      "/home/michaelneuder/miniconda3/lib/python3.6/site-packages/ipykernel_launcher.py:52: SparseEfficiencyWarning: Changing the sparsity structure of a csr_matrix is expensive. lil_matrix is more efficient.\n",
      "/home/michaelneuder/miniconda3/lib/python3.6/site-packages/ipykernel_launcher.py:69: SparseEfficiencyWarning: Changing the sparsity structure of a csr_matrix is expensive. lil_matrix is more efficient.\n",
      "/home/michaelneuder/miniconda3/lib/python3.6/site-packages/ipykernel_launcher.py:70: SparseEfficiencyWarning: Changing the sparsity structure of a csr_matrix is expensive. lil_matrix is more efficient.\n",
      "/home/michaelneuder/miniconda3/lib/python3.6/site-packages/ipykernel_launcher.py:59: SparseEfficiencyWarning: Changing the sparsity structure of a csr_matrix is expensive. lil_matrix is more efficient.\n",
      "/home/michaelneuder/miniconda3/lib/python3.6/site-packages/ipykernel_launcher.py:60: SparseEfficiencyWarning: Changing the sparsity structure of a csr_matrix is expensive. lil_matrix is more efficient.\n",
      "/home/michaelneuder/miniconda3/lib/python3.6/site-packages/ipykernel_launcher.py:28: SparseEfficiencyWarning: Changing the sparsity structure of a csr_matrix is expensive. lil_matrix is more efficient.\n",
      "/home/michaelneuder/miniconda3/lib/python3.6/site-packages/ipykernel_launcher.py:41: SparseEfficiencyWarning: Changing the sparsity structure of a csr_matrix is expensive. lil_matrix is more efficient.\n",
      "/home/michaelneuder/miniconda3/lib/python3.6/site-packages/ipykernel_launcher.py:42: SparseEfficiencyWarning: Changing the sparsity structure of a csr_matrix is expensive. lil_matrix is more efficient.\n",
      "/home/michaelneuder/miniconda3/lib/python3.6/site-packages/ipykernel_launcher.py:43: SparseEfficiencyWarning: Changing the sparsity structure of a csr_matrix is expensive. lil_matrix is more efficient.\n",
      "/home/michaelneuder/miniconda3/lib/python3.6/site-packages/ipykernel_launcher.py:44: SparseEfficiencyWarning: Changing the sparsity structure of a csr_matrix is expensive. lil_matrix is more efficient.\n",
      "/home/michaelneuder/miniconda3/lib/python3.6/site-packages/ipykernel_launcher.py:64: SparseEfficiencyWarning: Changing the sparsity structure of a csr_matrix is expensive. lil_matrix is more efficient.\n",
      "/home/michaelneuder/miniconda3/lib/python3.6/site-packages/ipykernel_launcher.py:65: SparseEfficiencyWarning: Changing the sparsity structure of a csr_matrix is expensive. lil_matrix is more efficient.\n",
      "/home/michaelneuder/miniconda3/lib/python3.6/site-packages/ipykernel_launcher.py:66: SparseEfficiencyWarning: Changing the sparsity structure of a csr_matrix is expensive. lil_matrix is more efficient.\n",
      "/home/michaelneuder/miniconda3/lib/python3.6/site-packages/ipykernel_launcher.py:67: SparseEfficiencyWarning: Changing the sparsity structure of a csr_matrix is expensive. lil_matrix is more efficient.\n",
      "/home/michaelneuder/miniconda3/lib/python3.6/site-packages/ipykernel_launcher.py:29: SparseEfficiencyWarning: Changing the sparsity structure of a csr_matrix is expensive. lil_matrix is more efficient.\n"
     ]
    },
    {
     "name": "stdout",
     "output_type": "stream",
     "text": [
      "processing state 0\n"
     ]
    },
    {
     "name": "stderr",
     "output_type": "stream",
     "text": [
      "/home/michaelneuder/miniconda3/lib/python3.6/site-packages/ipykernel_launcher.py:36: SparseEfficiencyWarning: Changing the sparsity structure of a csr_matrix is expensive. lil_matrix is more efficient.\n",
      "/home/michaelneuder/miniconda3/lib/python3.6/site-packages/ipykernel_launcher.py:37: SparseEfficiencyWarning: Changing the sparsity structure of a csr_matrix is expensive. lil_matrix is more efficient.\n",
      "/home/michaelneuder/miniconda3/lib/python3.6/site-packages/ipykernel_launcher.py:46: SparseEfficiencyWarning: Changing the sparsity structure of a csr_matrix is expensive. lil_matrix is more efficient.\n",
      "/home/michaelneuder/miniconda3/lib/python3.6/site-packages/ipykernel_launcher.py:47: SparseEfficiencyWarning: Changing the sparsity structure of a csr_matrix is expensive. lil_matrix is more efficient.\n",
      "/home/michaelneuder/miniconda3/lib/python3.6/site-packages/ipykernel_launcher.py:51: SparseEfficiencyWarning: Changing the sparsity structure of a csr_matrix is expensive. lil_matrix is more efficient.\n",
      "/home/michaelneuder/miniconda3/lib/python3.6/site-packages/ipykernel_launcher.py:52: SparseEfficiencyWarning: Changing the sparsity structure of a csr_matrix is expensive. lil_matrix is more efficient.\n",
      "/home/michaelneuder/miniconda3/lib/python3.6/site-packages/ipykernel_launcher.py:69: SparseEfficiencyWarning: Changing the sparsity structure of a csr_matrix is expensive. lil_matrix is more efficient.\n",
      "/home/michaelneuder/miniconda3/lib/python3.6/site-packages/ipykernel_launcher.py:70: SparseEfficiencyWarning: Changing the sparsity structure of a csr_matrix is expensive. lil_matrix is more efficient.\n",
      "/home/michaelneuder/miniconda3/lib/python3.6/site-packages/ipykernel_launcher.py:59: SparseEfficiencyWarning: Changing the sparsity structure of a csr_matrix is expensive. lil_matrix is more efficient.\n",
      "/home/michaelneuder/miniconda3/lib/python3.6/site-packages/ipykernel_launcher.py:60: SparseEfficiencyWarning: Changing the sparsity structure of a csr_matrix is expensive. lil_matrix is more efficient.\n",
      "/home/michaelneuder/miniconda3/lib/python3.6/site-packages/ipykernel_launcher.py:54: SparseEfficiencyWarning: Changing the sparsity structure of a csr_matrix is expensive. lil_matrix is more efficient.\n",
      "/home/michaelneuder/miniconda3/lib/python3.6/site-packages/ipykernel_launcher.py:55: SparseEfficiencyWarning: Changing the sparsity structure of a csr_matrix is expensive. lil_matrix is more efficient.\n",
      "/home/michaelneuder/miniconda3/lib/python3.6/site-packages/ipykernel_launcher.py:56: SparseEfficiencyWarning: Changing the sparsity structure of a csr_matrix is expensive. lil_matrix is more efficient.\n",
      "/home/michaelneuder/miniconda3/lib/python3.6/site-packages/ipykernel_launcher.py:57: SparseEfficiencyWarning: Changing the sparsity structure of a csr_matrix is expensive. lil_matrix is more efficient.\n",
      "/home/michaelneuder/miniconda3/lib/python3.6/site-packages/ipykernel_launcher.py:41: SparseEfficiencyWarning: Changing the sparsity structure of a csr_matrix is expensive. lil_matrix is more efficient.\n",
      "/home/michaelneuder/miniconda3/lib/python3.6/site-packages/ipykernel_launcher.py:42: SparseEfficiencyWarning: Changing the sparsity structure of a csr_matrix is expensive. lil_matrix is more efficient.\n",
      "/home/michaelneuder/miniconda3/lib/python3.6/site-packages/ipykernel_launcher.py:43: SparseEfficiencyWarning: Changing the sparsity structure of a csr_matrix is expensive. lil_matrix is more efficient.\n",
      "/home/michaelneuder/miniconda3/lib/python3.6/site-packages/ipykernel_launcher.py:44: SparseEfficiencyWarning: Changing the sparsity structure of a csr_matrix is expensive. lil_matrix is more efficient.\n",
      "/home/michaelneuder/miniconda3/lib/python3.6/site-packages/ipykernel_launcher.py:64: SparseEfficiencyWarning: Changing the sparsity structure of a csr_matrix is expensive. lil_matrix is more efficient.\n",
      "/home/michaelneuder/miniconda3/lib/python3.6/site-packages/ipykernel_launcher.py:65: SparseEfficiencyWarning: Changing the sparsity structure of a csr_matrix is expensive. lil_matrix is more efficient.\n",
      "/home/michaelneuder/miniconda3/lib/python3.6/site-packages/ipykernel_launcher.py:66: SparseEfficiencyWarning: Changing the sparsity structure of a csr_matrix is expensive. lil_matrix is more efficient.\n",
      "/home/michaelneuder/miniconda3/lib/python3.6/site-packages/ipykernel_launcher.py:67: SparseEfficiencyWarning: Changing the sparsity structure of a csr_matrix is expensive. lil_matrix is more efficient.\n",
      "/home/michaelneuder/miniconda3/lib/python3.6/site-packages/ipykernel_launcher.py:54: SparseEfficiencyWarning: Changing the sparsity structure of a csr_matrix is expensive. lil_matrix is more efficient.\n",
      "/home/michaelneuder/miniconda3/lib/python3.6/site-packages/ipykernel_launcher.py:55: SparseEfficiencyWarning: Changing the sparsity structure of a csr_matrix is expensive. lil_matrix is more efficient.\n",
      "/home/michaelneuder/miniconda3/lib/python3.6/site-packages/ipykernel_launcher.py:56: SparseEfficiencyWarning: Changing the sparsity structure of a csr_matrix is expensive. lil_matrix is more efficient.\n",
      "/home/michaelneuder/miniconda3/lib/python3.6/site-packages/ipykernel_launcher.py:57: SparseEfficiencyWarning: Changing the sparsity structure of a csr_matrix is expensive. lil_matrix is more efficient.\n"
     ]
    },
    {
     "name": "stdout",
     "output_type": "stream",
     "text": [
      "processing state 2000\n",
      "processing state 2000\n",
      "processing state 4000\n",
      "processing state 4000\n",
      "processing state 6000\n",
      "processing state 6000\n",
      "processing state 8000\n",
      "processing state 8000\n",
      "processing state 10000\n",
      "processing state 10000\n",
      "processing state 12000\n",
      "processing state 12000\n",
      "processing state 14000\n",
      "processing state 14000\n",
      "processing state 16000\n",
      "processing state 16000\n",
      "alpha:  0.35000000000000003 lower bound reward: 0.37076568603515625\n"
     ]
    },
    {
     "name": "stderr",
     "output_type": "stream",
     "text": [
      "/home/michaelneuder/miniconda3/lib/python3.6/site-packages/ipykernel_launcher.py:107: SparseEfficiencyWarning: Changing the sparsity structure of a csr_matrix is expensive. lil_matrix is more efficient.\n",
      "/home/michaelneuder/miniconda3/lib/python3.6/site-packages/ipykernel_launcher.py:108: SparseEfficiencyWarning: Changing the sparsity structure of a csr_matrix is expensive. lil_matrix is more efficient.\n",
      "/home/michaelneuder/miniconda3/lib/python3.6/site-packages/ipykernel_launcher.py:98: SparseEfficiencyWarning: Changing the sparsity structure of a csr_matrix is expensive. lil_matrix is more efficient.\n",
      "/home/michaelneuder/miniconda3/lib/python3.6/site-packages/ipykernel_launcher.py:99: SparseEfficiencyWarning: Changing the sparsity structure of a csr_matrix is expensive. lil_matrix is more efficient.\n"
     ]
    },
    {
     "name": "stdout",
     "output_type": "stream",
     "text": [
      "alpha:  0.35000000000000003 upper bound reward 0.37077789306640624\n"
     ]
    },
    {
     "name": "stderr",
     "output_type": "stream",
     "text": [
      "Process ForkPoolWorker-26:\n",
      "Process ForkPoolWorker-25:\n",
      "Process ForkPoolWorker-28:\n",
      "Process ForkPoolWorker-24:\n",
      "Traceback (most recent call last):\n",
      "Traceback (most recent call last):\n",
      "Traceback (most recent call last):\n",
      "Traceback (most recent call last):\n",
      "  File \"/home/michaelneuder/miniconda3/lib/python3.6/multiprocessing/process.py\", line 258, in _bootstrap\n",
      "    self.run()\n",
      "  File \"/home/michaelneuder/miniconda3/lib/python3.6/multiprocessing/process.py\", line 258, in _bootstrap\n",
      "    self.run()\n",
      "  File \"/home/michaelneuder/miniconda3/lib/python3.6/multiprocessing/process.py\", line 258, in _bootstrap\n",
      "    self.run()\n",
      "  File \"/home/michaelneuder/miniconda3/lib/python3.6/multiprocessing/process.py\", line 93, in run\n",
      "    self._target(*self._args, **self._kwargs)\n",
      "  File \"/home/michaelneuder/miniconda3/lib/python3.6/multiprocessing/process.py\", line 258, in _bootstrap\n",
      "    self.run()\n",
      "  File \"/home/michaelneuder/miniconda3/lib/python3.6/multiprocessing/process.py\", line 93, in run\n",
      "    self._target(*self._args, **self._kwargs)\n",
      "  File \"/home/michaelneuder/miniconda3/lib/python3.6/multiprocessing/process.py\", line 93, in run\n",
      "    self._target(*self._args, **self._kwargs)\n",
      "  File \"/home/michaelneuder/miniconda3/lib/python3.6/multiprocessing/pool.py\", line 108, in worker\n",
      "    task = get()\n",
      "  File \"/home/michaelneuder/miniconda3/lib/python3.6/multiprocessing/process.py\", line 93, in run\n",
      "    self._target(*self._args, **self._kwargs)\n",
      "  File \"/home/michaelneuder/miniconda3/lib/python3.6/multiprocessing/pool.py\", line 108, in worker\n",
      "    task = get()\n",
      "  File \"/home/michaelneuder/miniconda3/lib/python3.6/multiprocessing/pool.py\", line 108, in worker\n",
      "    task = get()\n",
      "  File \"/home/michaelneuder/miniconda3/lib/python3.6/multiprocessing/pool.py\", line 108, in worker\n",
      "    task = get()\n",
      "  File \"/home/michaelneuder/miniconda3/lib/python3.6/multiprocessing/queues.py\", line 334, in get\n",
      "    with self._rlock:\n",
      "  File \"/home/michaelneuder/miniconda3/lib/python3.6/multiprocessing/queues.py\", line 335, in get\n",
      "    res = self._reader.recv_bytes()\n",
      "  File \"/home/michaelneuder/miniconda3/lib/python3.6/multiprocessing/queues.py\", line 334, in get\n",
      "    with self._rlock:\n",
      "  File \"/home/michaelneuder/miniconda3/lib/python3.6/multiprocessing/queues.py\", line 334, in get\n",
      "    with self._rlock:\n",
      "  File \"/home/michaelneuder/miniconda3/lib/python3.6/multiprocessing/synchronize.py\", line 95, in __enter__\n",
      "    return self._semlock.__enter__()\n",
      "  File \"/home/michaelneuder/miniconda3/lib/python3.6/multiprocessing/connection.py\", line 216, in recv_bytes\n",
      "    buf = self._recv_bytes(maxlength)\n",
      "  File \"/home/michaelneuder/miniconda3/lib/python3.6/multiprocessing/synchronize.py\", line 95, in __enter__\n",
      "    return self._semlock.__enter__()\n",
      "KeyboardInterrupt\n",
      "KeyboardInterrupt\n",
      "  File \"/home/michaelneuder/miniconda3/lib/python3.6/multiprocessing/connection.py\", line 407, in _recv_bytes\n",
      "    buf = self._recv(4)\n",
      "  File \"/home/michaelneuder/miniconda3/lib/python3.6/multiprocessing/synchronize.py\", line 95, in __enter__\n",
      "    return self._semlock.__enter__()\n"
     ]
    },
    {
     "ename": "KeyboardInterrupt",
     "evalue": "",
     "output_type": "error",
     "traceback": [
      "\u001b[0;31m---------------------------------------------------------------------------\u001b[0m",
      "\u001b[0;31mKeyboardInterrupt\u001b[0m                         Traceback (most recent call last)",
      "\u001b[0;32m<ipython-input-16-32beee695fd6>\u001b[0m in \u001b[0;36m<module>\u001b[0;34m\u001b[0m\n\u001b[1;32m      1\u001b[0m \u001b[0;32mwith\u001b[0m \u001b[0mPool\u001b[0m\u001b[0;34m(\u001b[0m\u001b[0mprocesses\u001b[0m\u001b[0;34m=\u001b[0m\u001b[0;36m4\u001b[0m\u001b[0;34m)\u001b[0m \u001b[0;32mas\u001b[0m \u001b[0mpool\u001b[0m\u001b[0;34m:\u001b[0m\u001b[0;34m\u001b[0m\u001b[0;34m\u001b[0m\u001b[0m\n\u001b[0;32m----> 2\u001b[0;31m      \u001b[0mprint\u001b[0m\u001b[0;34m(\u001b[0m\u001b[0mpool\u001b[0m\u001b[0;34m.\u001b[0m\u001b[0mmap\u001b[0m\u001b[0;34m(\u001b[0m\u001b[0mf\u001b[0m\u001b[0;34m,\u001b[0m \u001b[0mnp\u001b[0m\u001b[0;34m.\u001b[0m\u001b[0mlinspace\u001b[0m\u001b[0;34m(\u001b[0m\u001b[0;36m0.05\u001b[0m\u001b[0;34m,\u001b[0m \u001b[0;36m0.45\u001b[0m\u001b[0;34m,\u001b[0m \u001b[0;36m9\u001b[0m\u001b[0;34m)\u001b[0m\u001b[0;34m)\u001b[0m\u001b[0;34m)\u001b[0m\u001b[0;34m\u001b[0m\u001b[0;34m\u001b[0m\u001b[0m\n\u001b[0m",
      "\u001b[0;32m~/miniconda3/lib/python3.6/multiprocessing/pool.py\u001b[0m in \u001b[0;36mmap\u001b[0;34m(self, func, iterable, chunksize)\u001b[0m\n\u001b[1;32m    264\u001b[0m         \u001b[0;32min\u001b[0m \u001b[0ma\u001b[0m \u001b[0mlist\u001b[0m \u001b[0mthat\u001b[0m \u001b[0;32mis\u001b[0m \u001b[0mreturned\u001b[0m\u001b[0;34m.\u001b[0m\u001b[0;34m\u001b[0m\u001b[0;34m\u001b[0m\u001b[0m\n\u001b[1;32m    265\u001b[0m         '''\n\u001b[0;32m--> 266\u001b[0;31m         \u001b[0;32mreturn\u001b[0m \u001b[0mself\u001b[0m\u001b[0;34m.\u001b[0m\u001b[0m_map_async\u001b[0m\u001b[0;34m(\u001b[0m\u001b[0mfunc\u001b[0m\u001b[0;34m,\u001b[0m \u001b[0miterable\u001b[0m\u001b[0;34m,\u001b[0m \u001b[0mmapstar\u001b[0m\u001b[0;34m,\u001b[0m \u001b[0mchunksize\u001b[0m\u001b[0;34m)\u001b[0m\u001b[0;34m.\u001b[0m\u001b[0mget\u001b[0m\u001b[0;34m(\u001b[0m\u001b[0;34m)\u001b[0m\u001b[0;34m\u001b[0m\u001b[0;34m\u001b[0m\u001b[0m\n\u001b[0m\u001b[1;32m    267\u001b[0m \u001b[0;34m\u001b[0m\u001b[0m\n\u001b[1;32m    268\u001b[0m     \u001b[0;32mdef\u001b[0m \u001b[0mstarmap\u001b[0m\u001b[0;34m(\u001b[0m\u001b[0mself\u001b[0m\u001b[0;34m,\u001b[0m \u001b[0mfunc\u001b[0m\u001b[0;34m,\u001b[0m \u001b[0miterable\u001b[0m\u001b[0;34m,\u001b[0m \u001b[0mchunksize\u001b[0m\u001b[0;34m=\u001b[0m\u001b[0;32mNone\u001b[0m\u001b[0;34m)\u001b[0m\u001b[0;34m:\u001b[0m\u001b[0;34m\u001b[0m\u001b[0;34m\u001b[0m\u001b[0m\n",
      "\u001b[0;32m~/miniconda3/lib/python3.6/multiprocessing/pool.py\u001b[0m in \u001b[0;36mget\u001b[0;34m(self, timeout)\u001b[0m\n\u001b[1;32m    636\u001b[0m \u001b[0;34m\u001b[0m\u001b[0m\n\u001b[1;32m    637\u001b[0m     \u001b[0;32mdef\u001b[0m \u001b[0mget\u001b[0m\u001b[0;34m(\u001b[0m\u001b[0mself\u001b[0m\u001b[0;34m,\u001b[0m \u001b[0mtimeout\u001b[0m\u001b[0;34m=\u001b[0m\u001b[0;32mNone\u001b[0m\u001b[0;34m)\u001b[0m\u001b[0;34m:\u001b[0m\u001b[0;34m\u001b[0m\u001b[0;34m\u001b[0m\u001b[0m\n\u001b[0;32m--> 638\u001b[0;31m         \u001b[0mself\u001b[0m\u001b[0;34m.\u001b[0m\u001b[0mwait\u001b[0m\u001b[0;34m(\u001b[0m\u001b[0mtimeout\u001b[0m\u001b[0;34m)\u001b[0m\u001b[0;34m\u001b[0m\u001b[0;34m\u001b[0m\u001b[0m\n\u001b[0m\u001b[1;32m    639\u001b[0m         \u001b[0;32mif\u001b[0m \u001b[0;32mnot\u001b[0m \u001b[0mself\u001b[0m\u001b[0;34m.\u001b[0m\u001b[0mready\u001b[0m\u001b[0;34m(\u001b[0m\u001b[0;34m)\u001b[0m\u001b[0;34m:\u001b[0m\u001b[0;34m\u001b[0m\u001b[0;34m\u001b[0m\u001b[0m\n\u001b[1;32m    640\u001b[0m             \u001b[0;32mraise\u001b[0m \u001b[0mTimeoutError\u001b[0m\u001b[0;34m\u001b[0m\u001b[0;34m\u001b[0m\u001b[0m\n",
      "\u001b[0;32m~/miniconda3/lib/python3.6/multiprocessing/pool.py\u001b[0m in \u001b[0;36mwait\u001b[0;34m(self, timeout)\u001b[0m\n\u001b[1;32m    633\u001b[0m \u001b[0;34m\u001b[0m\u001b[0m\n\u001b[1;32m    634\u001b[0m     \u001b[0;32mdef\u001b[0m \u001b[0mwait\u001b[0m\u001b[0;34m(\u001b[0m\u001b[0mself\u001b[0m\u001b[0;34m,\u001b[0m \u001b[0mtimeout\u001b[0m\u001b[0;34m=\u001b[0m\u001b[0;32mNone\u001b[0m\u001b[0;34m)\u001b[0m\u001b[0;34m:\u001b[0m\u001b[0;34m\u001b[0m\u001b[0;34m\u001b[0m\u001b[0m\n\u001b[0;32m--> 635\u001b[0;31m         \u001b[0mself\u001b[0m\u001b[0;34m.\u001b[0m\u001b[0m_event\u001b[0m\u001b[0;34m.\u001b[0m\u001b[0mwait\u001b[0m\u001b[0;34m(\u001b[0m\u001b[0mtimeout\u001b[0m\u001b[0;34m)\u001b[0m\u001b[0;34m\u001b[0m\u001b[0;34m\u001b[0m\u001b[0m\n\u001b[0m\u001b[1;32m    636\u001b[0m \u001b[0;34m\u001b[0m\u001b[0m\n\u001b[1;32m    637\u001b[0m     \u001b[0;32mdef\u001b[0m \u001b[0mget\u001b[0m\u001b[0;34m(\u001b[0m\u001b[0mself\u001b[0m\u001b[0;34m,\u001b[0m \u001b[0mtimeout\u001b[0m\u001b[0;34m=\u001b[0m\u001b[0;32mNone\u001b[0m\u001b[0;34m)\u001b[0m\u001b[0;34m:\u001b[0m\u001b[0;34m\u001b[0m\u001b[0;34m\u001b[0m\u001b[0m\n",
      "\u001b[0;32m~/miniconda3/lib/python3.6/threading.py\u001b[0m in \u001b[0;36mwait\u001b[0;34m(self, timeout)\u001b[0m\n\u001b[1;32m    549\u001b[0m             \u001b[0msignaled\u001b[0m \u001b[0;34m=\u001b[0m \u001b[0mself\u001b[0m\u001b[0;34m.\u001b[0m\u001b[0m_flag\u001b[0m\u001b[0;34m\u001b[0m\u001b[0;34m\u001b[0m\u001b[0m\n\u001b[1;32m    550\u001b[0m             \u001b[0;32mif\u001b[0m \u001b[0;32mnot\u001b[0m \u001b[0msignaled\u001b[0m\u001b[0;34m:\u001b[0m\u001b[0;34m\u001b[0m\u001b[0;34m\u001b[0m\u001b[0m\n\u001b[0;32m--> 551\u001b[0;31m                 \u001b[0msignaled\u001b[0m \u001b[0;34m=\u001b[0m \u001b[0mself\u001b[0m\u001b[0;34m.\u001b[0m\u001b[0m_cond\u001b[0m\u001b[0;34m.\u001b[0m\u001b[0mwait\u001b[0m\u001b[0;34m(\u001b[0m\u001b[0mtimeout\u001b[0m\u001b[0;34m)\u001b[0m\u001b[0;34m\u001b[0m\u001b[0;34m\u001b[0m\u001b[0m\n\u001b[0m\u001b[1;32m    552\u001b[0m             \u001b[0;32mreturn\u001b[0m \u001b[0msignaled\u001b[0m\u001b[0;34m\u001b[0m\u001b[0;34m\u001b[0m\u001b[0m\n\u001b[1;32m    553\u001b[0m \u001b[0;34m\u001b[0m\u001b[0m\n",
      "\u001b[0;32m~/miniconda3/lib/python3.6/threading.py\u001b[0m in \u001b[0;36mwait\u001b[0;34m(self, timeout)\u001b[0m\n\u001b[1;32m    293\u001b[0m         \u001b[0;32mtry\u001b[0m\u001b[0;34m:\u001b[0m    \u001b[0;31m# restore state no matter what (e.g., KeyboardInterrupt)\u001b[0m\u001b[0;34m\u001b[0m\u001b[0;34m\u001b[0m\u001b[0m\n\u001b[1;32m    294\u001b[0m             \u001b[0;32mif\u001b[0m \u001b[0mtimeout\u001b[0m \u001b[0;32mis\u001b[0m \u001b[0;32mNone\u001b[0m\u001b[0;34m:\u001b[0m\u001b[0;34m\u001b[0m\u001b[0;34m\u001b[0m\u001b[0m\n\u001b[0;32m--> 295\u001b[0;31m                 \u001b[0mwaiter\u001b[0m\u001b[0;34m.\u001b[0m\u001b[0macquire\u001b[0m\u001b[0;34m(\u001b[0m\u001b[0;34m)\u001b[0m\u001b[0;34m\u001b[0m\u001b[0;34m\u001b[0m\u001b[0m\n\u001b[0m\u001b[1;32m    296\u001b[0m                 \u001b[0mgotit\u001b[0m \u001b[0;34m=\u001b[0m \u001b[0;32mTrue\u001b[0m\u001b[0;34m\u001b[0m\u001b[0;34m\u001b[0m\u001b[0m\n\u001b[1;32m    297\u001b[0m             \u001b[0;32melse\u001b[0m\u001b[0;34m:\u001b[0m\u001b[0;34m\u001b[0m\u001b[0;34m\u001b[0m\u001b[0m\n",
      "\u001b[0;31mKeyboardInterrupt\u001b[0m: "
     ]
    }
   ],
   "source": [
    "with Pool(processes=4) as pool:\n",
    "     print(pool.map(f, np.linspace(0.05, 0.45, 9)))"
   ]
  }
 ],
 "metadata": {
  "kernelspec": {
   "display_name": "Python 3",
   "language": "python",
   "name": "python3"
  },
  "language_info": {
   "codemirror_mode": {
    "name": "ipython",
    "version": 3
   },
   "file_extension": ".py",
   "mimetype": "text/x-python",
   "name": "python",
   "nbconvert_exporter": "python",
   "pygments_lexer": "ipython3",
   "version": "3.6.8"
  }
 },
 "nbformat": 4,
 "nbformat_minor": 2
}

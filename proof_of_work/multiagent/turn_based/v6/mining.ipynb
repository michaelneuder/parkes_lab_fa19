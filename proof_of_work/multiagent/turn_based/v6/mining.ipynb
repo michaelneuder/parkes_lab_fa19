{
 "cells": [
  {
   "cell_type": "code",
   "execution_count": 1,
   "metadata": {},
   "outputs": [],
   "source": [
    "import mdptoolbox\n",
    "import matplotlib.pyplot as plt\n",
    "import numpy as np\n",
    "import scipy.sparse as ss\n",
    "import seaborn as sns\n",
    "import warnings\n",
    "warnings.filterwarnings('ignore', category=ss.SparseEfficiencyWarning)"
   ]
  },
  {
   "cell_type": "code",
   "execution_count": 8,
   "metadata": {},
   "outputs": [],
   "source": [
    "# params\n",
    "alpha = 0.4\n",
    "T = 8\n",
    "state_count = (T+1) * (T+1)\n",
    "epsilon = 10e-5\n",
    "\n",
    "# game\n",
    "action_count = 3\n",
    "adopt = 0; override = 1; mine = 2\n",
    "\n",
    "# mapping utils\n",
    "state_mapping = {}\n",
    "states = []\n",
    "count = 0\n",
    "for a in range(T+1):\n",
    "    for h in range(T+1):\n",
    "            state_mapping[(a, h)] = count\n",
    "            states.append((a, h))\n",
    "            count += 1\n",
    "\n",
    "# initialize matrices\n",
    "transitions = []; reward_selfish = []; reward_honest = [];\n",
    "for _ in range(action_count):\n",
    "    transitions.append(ss.csr_matrix(np.zeros(shape=(state_count, state_count))))\n",
    "    reward_selfish.append(ss.csr_matrix(np.zeros(shape=(state_count, state_count))))\n",
    "    reward_honest.append(ss.csr_matrix(np.zeros(shape=(state_count, state_count))))"
   ]
  },
  {
   "cell_type": "code",
   "execution_count": 60,
   "metadata": {},
   "outputs": [],
   "source": [
    "difficulty = 0\n",
    "\n",
    "# populate matrices\n",
    "for state_index in range(state_count):\n",
    "    a, h = states[state_index]\n",
    "\n",
    "    # adopt transitions\n",
    "    transitions[adopt][state_index, state_mapping[1, 0]] = alpha\n",
    "    transitions[adopt][state_index, state_mapping[0, 1]] = 1 - alpha\n",
    "    reward_honest[adopt][state_index, state_mapping[1, 0]] = 0\n",
    "    reward_honest[adopt][state_index, state_mapping[0, 1]] = 0\n",
    "\n",
    "    # override\n",
    "    if a > h:\n",
    "        transitions[override][state_index, state_mapping[a-h, 0]] = alpha\n",
    "        reward_selfish[override][state_index, state_mapping[a-h, 0]] = h+1\n",
    "        transitions[override][state_index, state_mapping[a-h-1, 1]] = 1 - alpha\n",
    "        reward_selfish[override][state_index, state_mapping[a-h-1, 1]] = h+1\n",
    "    else:\n",
    "        transitions[override][state_index, 0] = 1\n",
    "        reward_honest[override][state_index, 0] = 10000\n",
    "\n",
    "    # mine transitions\n",
    "    if (a < T) and (h < T):\n",
    "        transitions[mine][state_index, state_mapping[a+1, h]] = alpha\n",
    "        transitions[mine][state_index, state_mapping[a, h+1]] = 1 - alpha\n",
    "        reward_selfish[mine][state_index, state_mapping[a+1, h]] = -1 * alpha * difficulty * h\n",
    "        reward_selfish[m`ine][state_index, state_mapping[a, h+1]] = -1 * alpha * difficulty * h\n",
    "    else:\n",
    "        transitions[mine][state_index, 0] = 1\n",
    "        reward_honest[mine][state_index, 0] = 10000"
   ]
  },
  {
   "cell_type": "code",
   "execution_count": 61,
   "metadata": {},
   "outputs": [
    {
     "name": "stdout",
     "output_type": "stream",
     "text": [
      "0 1 0.5\n",
      "0.5 1 0.75\n",
      "0.75 1 0.875\n",
      "0.875 1 0.9375\n",
      "0.9375 1 0.96875\n",
      "0.96875 1 0.984375\n",
      "0.984375 1 0.9921875\n",
      "0.9921875 1 0.99609375\n",
      "0.99609375 1 0.998046875\n",
      "0.998046875 1 0.9990234375\n",
      "0.9990234375 1 0.99951171875\n",
      "0.99951171875 1 0.999755859375\n",
      "0.999755859375 1 0.9998779296875\n",
      "0.9998779296875 1 0.99993896484375\n",
      "0.99993896484375 1 0.999969482421875\n",
      "0.999969482421875 1 0.9999847412109375\n",
      "0.9999847412109375 1 0.9999923706054688\n",
      "alpha:  0.4 lower bound reward: 0.9999923706054688\n"
     ]
    }
   ],
   "source": [
    "low = 0; high = 1\n",
    "while (high - low) > epsilon / 8:\n",
    "    rho = (low + high) / 2\n",
    "    print(low, high, rho)\n",
    "    total_reward = []\n",
    "    for i in range(action_count):\n",
    "        total_reward.append((1-rho)*reward_selfish[i] - rho*reward_honest[i])\n",
    "    rvi = mdptoolbox.mdp.RelativeValueIteration(transitions, total_reward, epsilon/8)\n",
    "    rvi.run()\n",
    "    if rvi.average_reward > 0:\n",
    "        low = rho\n",
    "    else:\n",
    "        high = rho\n",
    "policy = rvi.policy\n",
    "print('alpha: ', alpha, 'lower bound reward:', rho)"
   ]
  },
  {
   "cell_type": "code",
   "execution_count": 62,
   "metadata": {},
   "outputs": [
    {
     "data": {
      "image/png": "[encoded data removed]",
      "text/plain": [
       "<Figure size 432x432 with 1 Axes>"
      ]
     },
     "metadata": {},
     "output_type": "display_data"
    }
   ],
   "source": [
    "f, ax = plt.subplots(figsize=(6,6))\n",
    "ax.imshow(np.reshape(policy, (9,9)))\n",
    "ax = sns.heatmap(np.reshape(policy, (9,9)), annot=True, cmap='viridis')\n",
    "cb = ax.collections[-1].colorbar   \n",
    "cb.remove()\n",
    "plt.xticks([])\n",
    "plt.yticks([])\n",
    "plt.show()"
   ]
  },
  {
   "cell_type": "code",
   "execution_count": 37,
   "metadata": {},
   "outputs": [],
   "source": [
    "rho = 0.99\n",
    "total_reward = []\n",
    "for i in range(action_count):\n",
    "    total_reward.append((1-rho)*reward_selfish[i] - rho*reward_honest[i])\n",
    "rvi = mdptoolbox.mdp.RelativeValueIteration(transitions, total_reward, epsilon/8)\n",
    "rvi.run()\n",
    "policy = rvi.policy"
   ]
  },
  {
   "cell_type": "code",
   "execution_count": 38,
   "metadata": {},
   "outputs": [
    {
     "data": {
      "image/png": "[encoded data removed]",
      "text/plain": [
       "<Figure size 432x432 with 1 Axes>"
      ]
     },
     "metadata": {},
     "output_type": "display_data"
    }
   ],
   "source": [
    "f, ax = plt.subplots(figsize=(6,6))\n",
    "ax.imshow(np.reshape(policy, (9,9)))\n",
    "ax = sns.heatmap(np.reshape(policy, (9,9)), annot=True, cmap='viridis')\n",
    "cb = ax.collections[-1].colorbar   \n",
    "cb.remove()\n",
    "plt.xticks([])\n",
    "plt.yticks([])\n",
    "plt.show()"
   ]
  }
 ],
 "metadata": {
  "kernelspec": {
   "display_name": "Python 3",
   "language": "python",
   "name": "python3"
  },
  "language_info": {
   "codemirror_mode": {
    "name": "ipython",
    "version": 3
   },
   "file_extension": ".py",
   "mimetype": "text/x-python",
   "name": "python",
   "nbconvert_exporter": "python",
   "pygments_lexer": "ipython3",
   "version": "3.6.8"
  }
 },
 "nbformat": 4,
 "nbformat_minor": 2
}

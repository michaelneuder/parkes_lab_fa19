{
 "cells": [
  {
   "cell_type": "code",
   "execution_count": 3,
   "metadata": {},
   "outputs": [],
   "source": [
    "import environmentv6 as e\n",
    "import numpy as np\n",
    "import progressbar as pb"
   ]
  },
  {
   "cell_type": "code",
   "execution_count": 9,
   "metadata": {},
   "outputs": [],
   "source": [
    "opt_policy = np.asarray([\n",
    "[0, 0, 0, 0, 0, 0, 0, 0, 0],\n",
    "[2, 2, 2, 0, 0, 0, 0, 0, 0],\n",
    "[2, 1, 2, 2, 0, 0, 0, 0, 0], \n",
    "[2, 2, 1, 2, 2, 2, 0, 0, 0],\n",
    "[2, 2, 2, 1, 2, 2, 2, 0, 0],\n",
    "[2, 2, 2, 2, 1, 2, 2, 2, 0],\n",
    "[2, 2, 2, 2, 2, 1, 2, 2, 2],\n",
    "[2, 2, 2, 2, 2, 2, 1, 2, 2],\n",
    "[1, 1, 1, 1, 1, 1, 1, 1, 2]\n",
    "])\n",
    "\n",
    "sm1_policy = np.asarray([\n",
    "[0, 0, 9, 9, 9, 9, 9, 9, 9],\n",
    "[2, 0, 9, 9, 9, 9, 9, 9, 9],\n",
    "[2, 1, 0, 9, 9, 9, 9, 9, 9], \n",
    "[2, 2, 1, 0, 9, 9, 9, 9, 9],\n",
    "[2, 2, 2, 1, 0, 9, 9, 9, 9],\n",
    "[2, 2, 2, 2, 1, 0, 9, 9, 9],\n",
    "[2, 2, 2, 2, 2, 1, 0, 9, 9],\n",
    "[2, 2, 2, 2, 2, 2, 1, 0, 9],\n",
    "[1, 1, 1, 1, 1, 1, 1, 1, 0]\n",
    "])\n",
    "\n",
    "honest_policy = np.asarray([\n",
    "[0, 0, 9, 9, 9, 9, 9, 9, 9],\n",
    "[1, 9, 9, 9, 9, 9, 9, 9, 9],\n",
    "[9, 9, 9, 9, 9, 9, 9, 9, 9], \n",
    "[9, 9, 9, 9, 9, 9, 9, 9, 9],\n",
    "[9, 9, 9, 9, 9, 9, 9, 9, 9],\n",
    "[9, 9, 9, 9, 9, 9, 9, 9, 9],\n",
    "[9, 9, 9, 9, 9, 9, 9, 9, 9],\n",
    "[9, 9, 9, 9, 9, 9, 9, 9, 9],\n",
    "[9, 9, 9, 9, 9, 9, 9, 9, 9]\n",
    "])"
   ]
  },
  {
   "cell_type": "code",
   "execution_count": 6,
   "metadata": {},
   "outputs": [],
   "source": [
    "episodes = 1000\n",
    "length = 1000\n",
    "alpha = 0.4\n",
    "T = 9\n",
    "mining_cost = 0.5"
   ]
  },
  {
   "cell_type": "code",
   "execution_count": 7,
   "metadata": {},
   "outputs": [],
   "source": [
    "env = e.Environment(alpha, T, mining_cost)"
   ]
  },
  {
   "cell_type": "code",
   "execution_count": 22,
   "metadata": {},
   "outputs": [
    {
     "name": "stderr",
     "output_type": "stream",
     "text": [
      "100% (1000 of 1000) |####################| Elapsed Time: 0:00:10 Time:  0:00:10\n"
     ]
    }
   ],
   "source": [
    "rewards = []\n",
    "bar = pb.ProgressBar()\n",
    "for episode in bar(range(episodes)):\n",
    "    _ = env.reset()\n",
    "    current_reward = 0\n",
    "    for _ in range(length):\n",
    "        a, h = env.current_state\n",
    "        action = opt_policy[(a,h)]\n",
    "        _, reward = env.takeAction(action)\n",
    "        current_reward += reward\n",
    "    rewards.append(current_reward)"
   ]
  },
  {
   "cell_type": "code",
   "execution_count": 23,
   "metadata": {},
   "outputs": [
    {
     "data": {
      "text/plain": [
       "(0.5784000000000001, 1.3053173713698902)"
      ]
     },
     "execution_count": 23,
     "metadata": {},
     "output_type": "execute_result"
    }
   ],
   "source": [
    "np.mean(rewards), np.std(rewards)"
   ]
  }
 ],
 "metadata": {
  "kernelspec": {
   "display_name": "Python 3",
   "language": "python",
   "name": "python3"
  },
  "language_info": {
   "codemirror_mode": {
    "name": "ipython",
    "version": 3
   },
   "file_extension": ".py",
   "mimetype": "text/x-python",
   "name": "python",
   "nbconvert_exporter": "python",
   "pygments_lexer": "ipython3",
   "version": "3.6.8"
  }
 },
 "nbformat": 4,
 "nbformat_minor": 2
}

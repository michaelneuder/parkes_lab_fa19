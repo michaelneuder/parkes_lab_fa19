{
 "cells": [
  {
   "cell_type": "code",
   "execution_count": 1,
   "metadata": {},
   "outputs": [],
   "source": [
    "import mdptoolbox\n",
    "import matplotlib.pyplot as plt\n",
    "import numpy as np\n",
    "import scipy.sparse as ss\n",
    "import warnings\n",
    "warnings.filterwarnings('ignore', category=ss.SparseEfficiencyWarning)"
   ]
  },
  {
   "cell_type": "code",
   "execution_count": 20,
   "metadata": {},
   "outputs": [],
   "source": [
    "# params\n",
    "alpha = 0.4\n",
    "T = 8\n",
    "state_count = (T+1) * (T+1)\n",
    "epsilon = 10e-5\n",
    "\n",
    "# game\n",
    "action_count = 3\n",
    "adopt = 0; override = 1; wait = 2\n",
    "\n",
    "# mapping utils\n",
    "state_mapping = {}\n",
    "states = []\n",
    "count = 0\n",
    "for a in range(T+1):\n",
    "    for h in range(T+1):\n",
    "            state_mapping[(a, h)] = count\n",
    "            states.append((a, h))\n",
    "            count += 1\n",
    "\n",
    "# initialize matrices\n",
    "transitions = []; reward_selfish = []; reward_honest = []\n",
    "for _ in range(action_count):\n",
    "    transitions.append(ss.csr_matrix(np.zeros(shape=(state_count, state_count))))\n",
    "    reward_selfish.append(ss.csr_matrix(np.zeros(shape=(state_count, state_count))))\n",
    "    reward_honest.append(ss.csr_matrix(np.zeros(shape=(state_count, state_count))))"
   ]
  },
  {
   "cell_type": "code",
   "execution_count": 21,
   "metadata": {},
   "outputs": [],
   "source": [
    "# populate matrices\n",
    "for state_index in range(state_count):\n",
    "    a, h = states[state_index]\n",
    "\n",
    "    # adopt transitions\n",
    "    transitions[adopt][state_index, state_mapping[1, 0]] = alpha\n",
    "    transitions[adopt][state_index, state_mapping[0, 1]] = 1 - alpha\n",
    "    # adopt rewards\n",
    "    reward_honest[adopt][state_index, state_mapping[1, 0]] = h\n",
    "    reward_honest[adopt][state_index, state_mapping[0, 1]] = h\n",
    "\n",
    "    # override\n",
    "    if a > h:\n",
    "        transitions[override][state_index, state_mapping[a-h, 0]] = alpha\n",
    "        reward_selfish[override][state_index, state_mapping[a-h, 0]] = h+1\n",
    "        transitions[override][state_index, state_mapping[a-h-1, 1]] = 1 - alpha\n",
    "        reward_selfish[override][state_index, state_mapping[a-h-1, 1]] = h+1\n",
    "    else:\n",
    "        transitions[override][state_index, 0] = 1\n",
    "        reward_honest[override][state_index, 0] = 10000\n",
    "\n",
    "    # wait transitions\n",
    "    if (a < T) and (h < T):\n",
    "        transitions[wait][state_index, state_mapping[a+1, h]] = alpha\n",
    "        transitions[wait][state_index, state_mapping[a, h+1]] = 1 - alpha\n",
    "    else:\n",
    "        transitions[wait][state_index, 0] = 1\n",
    "        reward_honest[wait][state_index, 0] = 10000"
   ]
  },
  {
   "cell_type": "code",
   "execution_count": 22,
   "metadata": {},
   "outputs": [
    {
     "name": "stdout",
     "output_type": "stream",
     "text": [
      "0 1 0.5\n",
      "0 0.5 0.25\n",
      "0.25 0.5 0.375\n",
      "0.375 0.5 0.4375\n",
      "0.4375 0.5 0.46875\n",
      "0.46875 0.5 0.484375\n",
      "0.46875 0.484375 0.4765625\n",
      "0.46875 0.4765625 0.47265625\n",
      "0.46875 0.47265625 0.470703125\n",
      "0.46875 0.470703125 0.4697265625\n",
      "0.4697265625 0.470703125 0.47021484375\n",
      "0.47021484375 0.470703125 0.470458984375\n",
      "0.47021484375 0.470458984375 0.4703369140625\n",
      "0.47021484375 0.4703369140625 0.47027587890625\n",
      "0.47021484375 0.47027587890625 0.470245361328125\n",
      "0.47021484375 0.470245361328125 0.4702301025390625\n",
      "0.47021484375 0.4702301025390625 0.47022247314453125\n",
      "alpha:  0.4 lower bound reward: 0.47022247314453125\n"
     ]
    }
   ],
   "source": [
    "low = 0; high = 1\n",
    "while (high - low) > epsilon / 8:\n",
    "    rho = (low + high) / 2\n",
    "    print(low, high, rho)\n",
    "    total_reward = []\n",
    "    for i in range(action_count):\n",
    "        total_reward.append((1-rho)*reward_selfish[i] - rho*reward_honest[i])\n",
    "    rvi = mdptoolbox.mdp.RelativeValueIteration(transitions, total_reward, epsilon/8)\n",
    "    rvi.run()\n",
    "    if rvi.average_reward > 0:\n",
    "        low = rho\n",
    "    else:\n",
    "        high = rho\n",
    "policy = rvi.policy\n",
    "print('alpha: ', alpha, 'lower bound reward:', rho)"
   ]
  },
  {
   "cell_type": "code",
   "execution_count": 24,
   "metadata": {},
   "outputs": [
    {
     "data": {
      "text/plain": [
       "<matplotlib.image.AxesImage at 0x7ec84e77a400>"
      ]
     },
     "execution_count": 24,
     "metadata": {},
     "output_type": "execute_result"
    },
    {
     "data": {
      "image/png": "[encoded data removed]",
      "text/plain": [
       "<Figure size 432x288 with 1 Axes>"
      ]
     },
     "metadata": {
      "needs_background": "light"
     },
     "output_type": "display_data"
    }
   ],
   "source": [
    "plt.imshow(np.reshape(policy, (9,9)))"
   ]
  }
 ],
 "metadata": {
  "kernelspec": {
   "display_name": "Python 3",
   "language": "python",
   "name": "python3"
  },
  "language_info": {
   "codemirror_mode": {
    "name": "ipython",
    "version": 3
   },
   "file_extension": ".py",
   "mimetype": "text/x-python",
   "name": "python",
   "nbconvert_exporter": "python",
   "pygments_lexer": "ipython3",
   "version": "3.6.8"
  }
 },
 "nbformat": 4,
 "nbformat_minor": 2
}

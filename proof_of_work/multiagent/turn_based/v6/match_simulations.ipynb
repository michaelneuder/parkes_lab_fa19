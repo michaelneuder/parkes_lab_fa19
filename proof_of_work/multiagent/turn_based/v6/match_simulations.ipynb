{
 "cells": [
  {
   "cell_type": "code",
   "execution_count": 1,
   "metadata": {},
   "outputs": [],
   "source": [
    "import environmentv7 as e\n",
    "from honestagentv7 import HonestAgent\n",
    "import mdptoolbox\n",
    "import matplotlib.pyplot as plt\n",
    "import numpy as np\n",
    "import progressbar as pb\n",
    "import scipy.sparse as ss\n",
    "import seaborn as sns\n",
    "from selfishagentv7 import SelfishAgent\n",
    "import warnings\n",
    "warnings.filterwarnings('ignore', category=ss.SparseEfficiencyWarning)"
   ]
  },
  {
   "cell_type": "code",
   "execution_count": 44,
   "metadata": {},
   "outputs": [],
   "source": [
    "# params\n",
    "alpha = 0.4\n",
    "gamma = 0.5\n",
    "T = 8\n",
    "epsilon = 10e-5\n",
    "\n",
    "# game\n",
    "action_count = 4\n",
    "adopt = 0; override = 1; mine = 2; match = 3\n",
    "\n",
    "# fork params\n",
    "fork_count = 3\n",
    "irrelevant = 0; relevant = 1; active = 2;\n",
    "\n",
    "state_count = (T+1) * (T+1) * 3\n",
    "\n",
    "# mapping utils\n",
    "state_mapping = {}\n",
    "states = []\n",
    "count = 0\n",
    "for a in range(T+1):\n",
    "    for h in range(T+1):\n",
    "        for fork in range(fork_count):\n",
    "            state_mapping[(a, h, fork)] = count\n",
    "            states.append((a, h, fork))\n",
    "            count += 1\n",
    "\n",
    "# initialize matrices\n",
    "transitions = []; rewards = []\n",
    "for _ in range(action_count):\n",
    "    transitions.append(ss.csr_matrix(np.zeros(shape=(state_count, state_count))))\n",
    "    rewards.append(ss.csr_matrix(np.zeros(shape=(state_count, state_count))))"
   ]
  },
  {
   "cell_type": "code",
   "execution_count": 49,
   "metadata": {},
   "outputs": [],
   "source": [
    "def get_opt_policy(alpha, gamma, T, mining_cost):\n",
    "    # populate matrices\n",
    "    for state_index in range(state_count):\n",
    "        a, h, fork = states[state_index]\n",
    "\n",
    "        # adopt\n",
    "        transitions[adopt][state_index, state_mapping[0, 0, irrelevant]] = 1\n",
    "\n",
    "        # override\n",
    "        if a > h:\n",
    "            transitions[override][state_index, state_mapping[a-h-1, 0, irrelevant]] = 1\n",
    "            rewards[override][state_index, state_mapping[a-h-1, 0, irrelevant]] = h + 1\n",
    "        else:\n",
    "            transitions[override][state_index, 0] = 1\n",
    "            rewards[override][state_index, 0] = -10000\n",
    "\n",
    "        # mine \n",
    "        if (fork != active) and (a < T) and (h < T):\n",
    "            transitions[mine][state_index, state_mapping[a+1, h, irrelevant]] = alpha\n",
    "            transitions[mine][state_index, state_mapping[a, h+1, relevant]] = (1 - alpha) \n",
    "            rewards[mine][state_index, state_mapping[a+1, h, irrelevant]] = -1 * alpha * mining_cost\n",
    "            rewards[mine][state_index, state_mapping[a, h+1, relevant]] = -1 * alpha * mining_cost        \n",
    "        elif (fork == active) and (a > h) and (h > 0) and (a < T) and (h < T):\n",
    "            transitions[mine][state_index, state_mapping[a+1, h, active]] = alpha\n",
    "            transitions[mine][state_index, state_mapping[a-h, 1, relevant]] = (1 - alpha) * gamma\n",
    "            transitions[mine][state_index, state_mapping[a, h+1, relevant]] = (1 - alpha) * (1 - gamma)\n",
    "            rewards[mine][state_index, state_mapping[a+1, h, active]] = -1 * alpha * mining_cost\n",
    "            rewards[mine][state_index, state_mapping[a-h, 1, relevant]] = h - alpha * mining_cost\n",
    "            rewards[mine][state_index, state_mapping[a, h+1, relevant]] = -1 * alpha * mining_cost\n",
    "        else:\n",
    "            transitions[mine][state_index, 0] = 1\n",
    "            rewards[mine][state_index, 0] = -10000\n",
    "\n",
    "        # match \n",
    "        if (fork == relevant) and (a >= h) and (h > 0) and (a < T) and (h < T):\n",
    "            transitions[match][state_index, state_mapping[a+1, h, active]] = alpha\n",
    "            transitions[match][state_index, state_mapping[a-h, 1, relevant]] = (1 - alpha) * gamma\n",
    "            transitions[match][state_index, state_mapping[a, h+1, relevant]] = (1 - alpha) * (1 - gamma)\n",
    "            rewards[match][state_index, state_mapping[a+1, h, active]] = -1 * alpha * mining_cost\n",
    "            rewards[match][state_index, state_mapping[a-h, 1, relevant]] = h - alpha * mining_cost\n",
    "            rewards[match][state_index, state_mapping[a, h+1, relevant]] = -1 * alpha * mining_cost\n",
    "        else:\n",
    "            transitions[match][state_index, 0] = 1\n",
    "            rewards[match][state_index, 0] = -10000\n",
    "\n",
    "    rvi = mdptoolbox.mdp.RelativeValueIteration(transitions, rewards, epsilon/8)\n",
    "    rvi.run()\n",
    "    policy = rvi.policy\n",
    "    return np.reshape(policy, (9,9,3))"
   ]
  },
  {
   "cell_type": "code",
   "execution_count": 46,
   "metadata": {},
   "outputs": [],
   "source": [
    "def processPolicy(policy):\n",
    "    results = ''\n",
    "    for a in range(9):\n",
    "        for h in range(9):\n",
    "            for fork in range(3):\n",
    "                state_index = state_mapping[(a, h, fork)]\n",
    "                action = policy[state_index]\n",
    "                \n",
    "                if action == 0:\n",
    "                    results += 'a'\n",
    "                elif action == 1:\n",
    "                    results += 'o'\n",
    "                elif action == 2:\n",
    "                    results += 'w'\n",
    "                elif action == 3:\n",
    "                    results += 'm'\n",
    "                else:\n",
    "                    print('here')\n",
    "            results += ' & '\n",
    "        results += '\\\\\\\\ \\n'\n",
    "    print(results)"
   ]
  },
  {
   "cell_type": "code",
   "execution_count": 47,
   "metadata": {},
   "outputs": [],
   "source": [
    "# params\n",
    "alpha = 0.4\n",
    "gamma = 0.5\n",
    "T = 8\n",
    "epsilon = 10e-5"
   ]
  },
  {
   "cell_type": "code",
   "execution_count": 51,
   "metadata": {},
   "outputs": [
    {
     "name": "stderr",
     "output_type": "stream",
     "text": [
      "100% (1000000 of 1000000) |##############| Elapsed Time: 0:00:40 Time:  0:00:40\n",
      "  9% (1 of 11) |##                       | Elapsed Time: 0:00:40 ETA:   0:06:49"
     ]
    },
    {
     "name": "stdout",
     "output_type": "stream",
     "text": [
      "mining cost 0.0000, reward per action 0.221732\n"
     ]
    },
    {
     "name": "stderr",
     "output_type": "stream",
     "text": [
      "100% (1000000 of 1000000) |##############| Elapsed Time: 0:00:42 Time:  0:00:42\n",
      " 18% (2 of 11) |####                     | Elapsed Time: 0:01:24 ETA:   0:06:28"
     ]
    },
    {
     "name": "stdout",
     "output_type": "stream",
     "text": [
      "mining cost 0.1000, reward per action 0.188470\n"
     ]
    },
    {
     "name": "stderr",
     "output_type": "stream",
     "text": [
      "100% (1000000 of 1000000) |##############| Elapsed Time: 0:00:41 Time:  0:00:41\n",
      " 27% (3 of 11) |######                   | Elapsed Time: 0:02:06 ETA:   0:05:36"
     ]
    },
    {
     "name": "stdout",
     "output_type": "stream",
     "text": [
      "mining cost 0.2000, reward per action 0.158340\n"
     ]
    },
    {
     "name": "stderr",
     "output_type": "stream",
     "text": [
      "100% (1000000 of 1000000) |##############| Elapsed Time: 0:00:40 Time:  0:00:40\n",
      " 36% (4 of 11) |#########                | Elapsed Time: 0:02:47 ETA:   0:04:50"
     ]
    },
    {
     "name": "stdout",
     "output_type": "stream",
     "text": [
      "mining cost 0.3000, reward per action 0.138501\n"
     ]
    },
    {
     "name": "stderr",
     "output_type": "stream",
     "text": [
      "100% (1000000 of 1000000) |##############| Elapsed Time: 0:00:41 Time:  0:00:41\n",
      " 45% (5 of 11) |###########              | Elapsed Time: 0:03:29 ETA:   0:04:10"
     ]
    },
    {
     "name": "stdout",
     "output_type": "stream",
     "text": [
      "mining cost 0.4000, reward per action 0.119263\n"
     ]
    },
    {
     "name": "stderr",
     "output_type": "stream",
     "text": [
      "100% (1000000 of 1000000) |##############| Elapsed Time: 0:00:42 Time:  0:00:42\n",
      " 54% (6 of 11) |#############            | Elapsed Time: 0:04:12 ETA:   0:03:36"
     ]
    },
    {
     "name": "stdout",
     "output_type": "stream",
     "text": [
      "mining cost 0.5000, reward per action 0.085759\n"
     ]
    },
    {
     "name": "stderr",
     "output_type": "stream",
     "text": [
      "100% (1000000 of 1000000) |##############| Elapsed Time: 0:00:42 Time:  0:00:42\n",
      " 63% (7 of 11) |###############          | Elapsed Time: 0:04:55 ETA:   0:02:51"
     ]
    },
    {
     "name": "stdout",
     "output_type": "stream",
     "text": [
      "mining cost 0.6000, reward per action 0.071355\n"
     ]
    },
    {
     "name": "stderr",
     "output_type": "stream",
     "text": [
      "100% (1000000 of 1000000) |##############| Elapsed Time: 0:00:43 Time:  0:00:43\n",
      " 72% (8 of 11) |##################       | Elapsed Time: 0:05:39 ETA:   0:02:11"
     ]
    },
    {
     "name": "stdout",
     "output_type": "stream",
     "text": [
      "mining cost 0.7000, reward per action 0.042097\n"
     ]
    },
    {
     "name": "stderr",
     "output_type": "stream",
     "text": [
      "100% (1000000 of 1000000) |##############| Elapsed Time: 0:00:37 Time:  0:00:37\n",
      " 81% (9 of 11) |####################     | Elapsed Time: 0:06:17 ETA:   0:01:15"
     ]
    },
    {
     "name": "stdout",
     "output_type": "stream",
     "text": [
      "mining cost 0.8000, reward per action 0.039755\n"
     ]
    },
    {
     "name": "stderr",
     "output_type": "stream",
     "text": [
      "100% (1000000 of 1000000) |##############| Elapsed Time: 0:00:35 Time:  0:00:35\n",
      " 90% (10 of 11) |#####################   | Elapsed Time: 0:06:53 ETA:   0:00:36"
     ]
    },
    {
     "name": "stdout",
     "output_type": "stream",
     "text": [
      "mining cost 0.9000, reward per action 0.019688\n"
     ]
    },
    {
     "name": "stderr",
     "output_type": "stream",
     "text": [
      "100% (1000000 of 1000000) |##############| Elapsed Time: 0:00:32 Time:  0:00:32\n",
      "100% (11 of 11) |########################| Elapsed Time: 0:07:26 Time:  0:07:26\n"
     ]
    },
    {
     "name": "stdout",
     "output_type": "stream",
     "text": [
      "mining cost 1.0000, reward per action 0.000000\n",
      "[<243x243 sparse matrix of type '<class 'numpy.float64'>'\n",
      "\twith 0 stored elements in Compressed Sparse Row format>, <243x243 sparse matrix of type '<class 'numpy.float64'>'\n",
      "\twith 243 stored elements in Compressed Sparse Row format>, <243x243 sparse matrix of type '<class 'numpy.float64'>'\n",
      "\twith 413 stored elements in Compressed Sparse Row format>, <243x243 sparse matrix of type '<class 'numpy.float64'>'\n",
      "\twith 299 stored elements in Compressed Sparse Row format>]\n"
     ]
    }
   ],
   "source": [
    "# simulation\n",
    "length = int(1e6)\n",
    "mining_costs = np.arange(0, 1.1, 0.1)\n",
    "\n",
    "bar = pb.ProgressBar()\n",
    "results = []\n",
    "for mining_cost in bar(mining_costs):\n",
    "    optimal_policy = get_opt_policy(alpha, gamma, T, mining_cost)\n",
    "    env = e.Environment(alpha, gamma, T, mining_cost)\n",
    "    # simulation\n",
    "    inner_bar = pb.ProgressBar()\n",
    "    _ = env.reset()\n",
    "    current_reward = 0\n",
    "    for _ in inner_bar(range(length)):\n",
    "        a, h, fork = env.current_state\n",
    "        action = optimal_policy[(a, h, fork)]\n",
    "        _, reward = env.takeAction(action)\n",
    "        current_reward += reward\n",
    "    results.append(current_reward)\n",
    "    print('mining cost {:.04f}, reward per action {:.06f}'.format(mining_cost, current_reward / length))\n",
    "print(rewards)"
   ]
  },
  {
   "cell_type": "code",
   "execution_count": 9,
   "metadata": {},
   "outputs": [
    {
     "name": "stderr",
     "output_type": "stream",
     "text": [
      "100% (1000000 of 1000000) |##############| Elapsed Time: 0:00:32 Time:  0:00:32\n",
      "  0% (2693 of 1000000) |                 | Elapsed Time: 0:00:00 ETA:   0:00:39"
     ]
    },
    {
     "name": "stdout",
     "output_type": "stream",
     "text": [
      "mining cost 0.0000, reward per action 0.199806\n"
     ]
    },
    {
     "name": "stderr",
     "output_type": "stream",
     "text": [
      "100% (1000000 of 1000000) |##############| Elapsed Time: 0:00:34 Time:  0:00:34\n",
      "                                                                               \r"
     ]
    },
    {
     "name": "stdout",
     "output_type": "stream",
     "text": [
      "mining cost 0.1000, reward per action 0.180655\n"
     ]
    },
    {
     "name": "stderr",
     "output_type": "stream",
     "text": [
      "100% (1000000 of 1000000) |##############| Elapsed Time: 0:00:35 Time:  0:00:35\n",
      "  0% (5517 of 1000000) |                 | Elapsed Time: 0:00:00 ETA:   0:00:36"
     ]
    },
    {
     "name": "stdout",
     "output_type": "stream",
     "text": [
      "mining cost 0.2000, reward per action 0.160099\n"
     ]
    },
    {
     "name": "stderr",
     "output_type": "stream",
     "text": [
      "100% (1000000 of 1000000) |##############| Elapsed Time: 0:00:34 Time:  0:00:34\n",
      "  0% (6988 of 1000000) |                 | Elapsed Time: 0:00:00 ETA:   0:00:28"
     ]
    },
    {
     "name": "stdout",
     "output_type": "stream",
     "text": [
      "mining cost 0.3000, reward per action 0.140665\n"
     ]
    },
    {
     "name": "stderr",
     "output_type": "stream",
     "text": [
      "100% (1000000 of 1000000) |##############| Elapsed Time: 0:00:35 Time:  0:00:35\n",
      "  0% (2097 of 1000000) |                 | Elapsed Time: 0:00:00 ETA:   0:00:47"
     ]
    },
    {
     "name": "stdout",
     "output_type": "stream",
     "text": [
      "mining cost 0.4000, reward per action 0.120549\n"
     ]
    },
    {
     "name": "stderr",
     "output_type": "stream",
     "text": [
      "100% (1000000 of 1000000) |##############| Elapsed Time: 0:00:35 Time:  0:00:35\n",
      "  0% (2473 of 1000000) |                 | Elapsed Time: 0:00:00 ETA:   0:00:40"
     ]
    },
    {
     "name": "stdout",
     "output_type": "stream",
     "text": [
      "mining cost 0.5000, reward per action 0.099993\n"
     ]
    },
    {
     "name": "stderr",
     "output_type": "stream",
     "text": [
      "100% (1000000 of 1000000) |##############| Elapsed Time: 0:00:35 Time:  0:00:35\n",
      "  0% (4594 of 1000000) |                 | Elapsed Time: 0:00:00 ETA:   0:00:43"
     ]
    },
    {
     "name": "stdout",
     "output_type": "stream",
     "text": [
      "mining cost 0.6000, reward per action 0.080753\n"
     ]
    },
    {
     "name": "stderr",
     "output_type": "stream",
     "text": [
      "100% (1000000 of 1000000) |##############| Elapsed Time: 0:00:35 Time:  0:00:35\n",
      "  0% (2395 of 1000000) |                 | Elapsed Time: 0:00:00 ETA:   0:00:41"
     ]
    },
    {
     "name": "stdout",
     "output_type": "stream",
     "text": [
      "mining cost 0.7000, reward per action 0.059634\n"
     ]
    },
    {
     "name": "stderr",
     "output_type": "stream",
     "text": [
      "100% (1000000 of 1000000) |##############| Elapsed Time: 0:00:35 Time:  0:00:35\n",
      "  0% (6982 of 1000000) |                 | Elapsed Time: 0:00:00 ETA:   0:00:28"
     ]
    },
    {
     "name": "stdout",
     "output_type": "stream",
     "text": [
      "mining cost 0.8000, reward per action 0.040137\n"
     ]
    },
    {
     "name": "stderr",
     "output_type": "stream",
     "text": [
      "100% (1000000 of 1000000) |##############| Elapsed Time: 0:00:36 Time:  0:00:36\n",
      "  0% (2911 of 1000000) |                 | Elapsed Time: 0:00:00 ETA:   0:00:34"
     ]
    },
    {
     "name": "stdout",
     "output_type": "stream",
     "text": [
      "mining cost 0.9000, reward per action 0.020097\n"
     ]
    },
    {
     "name": "stderr",
     "output_type": "stream",
     "text": [
      "100% (1000000 of 1000000) |##############| Elapsed Time: 0:00:35 Time:  0:00:35\n",
      "100% (11 of 11) |########################| Elapsed Time: 0:06:28 Time:  0:06:28\n"
     ]
    },
    {
     "name": "stdout",
     "output_type": "stream",
     "text": [
      "mining cost 1.0000, reward per action -0.000154\n"
     ]
    },
    {
     "data": {
      "text/plain": [
       "[199806.0,\n",
       " 180654.9999999055,\n",
       " 160099.0000005313,\n",
       " 140665.0000009786,\n",
       " 120548.99999874808,\n",
       " 99993.00000089542,\n",
       " 80752.99999977153,\n",
       " 59634.00000038184,\n",
       " 40137.000000125954,\n",
       " 20096.99999984972,\n",
       " -154.0000000014394]"
      ]
     },
     "execution_count": 9,
     "metadata": {},
     "output_type": "execute_result"
    }
   ],
   "source": [
    "# simulation\n",
    "length = int(1e6)\n",
    "mining_costs = np.arange(0, 1.1, 0.1)\n",
    "honest_agent = HonestAgent()\n",
    "\n",
    "bar = pb.ProgressBar()\n",
    "rewards = []\n",
    "for mining_cost in bar(mining_costs):\n",
    "    env = e.Environment(alpha, gamma, T, mining_cost)\n",
    "    # simulation\n",
    "    inner_bar = pb.ProgressBar()\n",
    "    _ = env.reset()\n",
    "    current_reward = 0\n",
    "    for _ in inner_bar(range(length)):\n",
    "        a, h, fork = env.current_state\n",
    "        action = honest_agent.act((a, h, fork))\n",
    "        _, reward = env.takeAction(action)\n",
    "        current_reward += reward\n",
    "    rewards.append(current_reward)\n",
    "    print('mining cost {:.04f}, reward per action {:.06f}'.format(mining_cost, current_reward / length))\n",
    "rewards"
   ]
  },
  {
   "cell_type": "code",
   "execution_count": 6,
   "metadata": {},
   "outputs": [
    {
     "name": "stderr",
     "output_type": "stream",
     "text": [
      "100% (1000000 of 1000000) |##############| Elapsed Time: 0:00:34 Time:  0:00:34\n",
      "  0% (7884 of 1000000) |                 | Elapsed Time: 0:00:00 ETA:   0:00:25"
     ]
    },
    {
     "name": "stdout",
     "output_type": "stream",
     "text": [
      "mining cost 0.0000, reward per action 0.230558\n"
     ]
    },
    {
     "name": "stderr",
     "output_type": "stream",
     "text": [
      "100% (1000000 of 1000000) |##############| Elapsed Time: 0:00:31 Time:  0:00:31\n",
      "  0% (6033 of 1000000) |                 | Elapsed Time: 0:00:00 ETA:   0:00:33"
     ]
    },
    {
     "name": "stdout",
     "output_type": "stream",
     "text": [
      "mining cost 0.1000, reward per action 0.205044\n"
     ]
    },
    {
     "name": "stderr",
     "output_type": "stream",
     "text": [
      "100% (1000000 of 1000000) |##############| Elapsed Time: 0:00:28 Time:  0:00:28\n",
      "                                                                               \r"
     ]
    },
    {
     "name": "stdout",
     "output_type": "stream",
     "text": [
      "mining cost 0.2000, reward per action 0.176130\n"
     ]
    },
    {
     "name": "stderr",
     "output_type": "stream",
     "text": [
      "100% (1000000 of 1000000) |##############| Elapsed Time: 0:00:28 Time:  0:00:28\n",
      "  0% (6298 of 1000000) |                 | Elapsed Time: 0:00:00 ETA:   0:00:31"
     ]
    },
    {
     "name": "stdout",
     "output_type": "stream",
     "text": [
      "mining cost 0.3000, reward per action 0.149347\n"
     ]
    },
    {
     "name": "stderr",
     "output_type": "stream",
     "text": [
      "100% (1000000 of 1000000) |##############| Elapsed Time: 0:00:29 Time:  0:00:29\n",
      "  0% (5861 of 1000000) |                 | Elapsed Time: 0:00:00 ETA:   0:00:34"
     ]
    },
    {
     "name": "stdout",
     "output_type": "stream",
     "text": [
      "mining cost 0.4000, reward per action 0.121975\n"
     ]
    },
    {
     "name": "stderr",
     "output_type": "stream",
     "text": [
      "100% (1000000 of 1000000) |##############| Elapsed Time: 0:00:30 Time:  0:00:30\n",
      "                                                                               \r"
     ]
    },
    {
     "name": "stdout",
     "output_type": "stream",
     "text": [
      "mining cost 0.5000, reward per action 0.093110\n"
     ]
    },
    {
     "name": "stderr",
     "output_type": "stream",
     "text": [
      "100% (1000000 of 1000000) |##############| Elapsed Time: 0:00:31 Time:  0:00:31\n",
      "  0% (5771 of 1000000) |                 | Elapsed Time: 0:00:00 ETA:   0:00:34"
     ]
    },
    {
     "name": "stdout",
     "output_type": "stream",
     "text": [
      "mining cost 0.6000, reward per action 0.066472\n"
     ]
    },
    {
     "name": "stderr",
     "output_type": "stream",
     "text": [
      "100% (1000000 of 1000000) |##############| Elapsed Time: 0:00:29 Time:  0:00:29\n",
      "  0% (3067 of 1000000) |                 | Elapsed Time: 0:00:00 ETA:   0:00:32"
     ]
    },
    {
     "name": "stdout",
     "output_type": "stream",
     "text": [
      "mining cost 0.7000, reward per action 0.039339\n"
     ]
    },
    {
     "name": "stderr",
     "output_type": "stream",
     "text": [
      "100% (1000000 of 1000000) |##############| Elapsed Time: 0:00:30 Time:  0:00:30\n",
      "  0% (3634 of 1000000) |                 | Elapsed Time: 0:00:00 ETA:   0:00:27"
     ]
    },
    {
     "name": "stdout",
     "output_type": "stream",
     "text": [
      "mining cost 0.8000, reward per action 0.011908\n"
     ]
    },
    {
     "name": "stderr",
     "output_type": "stream",
     "text": [
      "100% (1000000 of 1000000) |##############| Elapsed Time: 0:00:29 Time:  0:00:29\n",
      "  0% (6946 of 1000000) |                 | Elapsed Time: 0:00:00 ETA:   0:00:28"
     ]
    },
    {
     "name": "stdout",
     "output_type": "stream",
     "text": [
      "mining cost 0.9000, reward per action -0.016083\n"
     ]
    },
    {
     "name": "stderr",
     "output_type": "stream",
     "text": [
      "100% (1000000 of 1000000) |##############| Elapsed Time: 0:00:29 Time:  0:00:29\n",
      "100% (11 of 11) |########################| Elapsed Time: 0:05:33 Time:  0:05:33\n"
     ]
    },
    {
     "name": "stdout",
     "output_type": "stream",
     "text": [
      "mining cost 1.0000, reward per action -0.044013\n"
     ]
    }
   ],
   "source": [
    "# simulation\n",
    "length = int(1e6)\n",
    "mining_costs = np.arange(0, 1.1, 0.1)\n",
    "selfish_agent = SelfishAgent(T)\n",
    "\n",
    "bar = pb.ProgressBar()\n",
    "for mining_cost in bar(mining_costs):\n",
    "    env = e.Environment(alpha, gamma, T, mining_cost)\n",
    "    # simulation\n",
    "    inner_bar = pb.ProgressBar()\n",
    "    _ = env.reset()\n",
    "    current_reward = 0\n",
    "    for _ in inner_bar(range(length)):\n",
    "        a, h, fork = env.current_state\n",
    "        action = selfish_agent.act((a, h, fork))\n",
    "        _, reward = env.takeAction(action)\n",
    "        current_reward += reward\n",
    "    print('mining cost {:.04f}, reward per action {:.06f}'.format(mining_cost, current_reward / length))"
   ]
  }
 ],
 "metadata": {
  "kernelspec": {
   "display_name": "Python 3",
   "language": "python",
   "name": "python3"
  },
  "language_info": {
   "codemirror_mode": {
    "name": "ipython",
    "version": 3
   },
   "file_extension": ".py",
   "mimetype": "text/x-python",
   "name": "python",
   "nbconvert_exporter": "python",
   "pygments_lexer": "ipython3",
   "version": "3.6.8"
  }
 },
 "nbformat": 4,
 "nbformat_minor": 2
}

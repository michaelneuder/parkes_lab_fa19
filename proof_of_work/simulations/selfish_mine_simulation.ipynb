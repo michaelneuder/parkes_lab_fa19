{
 "cells": [
  {
   "cell_type": "code",
   "execution_count": 1,
   "metadata": {},
   "outputs": [],
   "source": [
    "# replicate simulation of selfish mine in original paper"
   ]
  },
  {
   "cell_type": "code",
   "execution_count": 51,
   "metadata": {},
   "outputs": [],
   "source": [
    "import copy\n",
    "import matplotlib.pyplot as plt\n",
    "import numpy as np\n",
    "import progressbar"
   ]
  },
  {
   "cell_type": "code",
   "execution_count": 52,
   "metadata": {},
   "outputs": [],
   "source": [
    "class Simulator(object):\n",
    "    def __init__(self, alpha, gamma):\n",
    "        self.alpha = alpha\n",
    "        self.gamma = gamma\n",
    "        self.public_chain = []\n",
    "        self.private_chain = []\n",
    "        self.private_branch_length = 0\n",
    "    \n",
    "    def simulate(self):\n",
    "        for _ in range(100000):\n",
    "            selfish_block = np.random.choice([1, 0], p=[self.alpha, 1-self.alpha])\n",
    "            if selfish_block:\n",
    "                prev_diff = len(self.private_chain) - len(self.public_chain)\n",
    "                self.private_chain.append('s')\n",
    "                self.private_branch_length += 1\n",
    "                \n",
    "                # Selfish miner won the 1 to 1 tie and publishes entire private chain.\n",
    "                if (prev_diff == 0) and (self.private_branch_length == 2):\n",
    "                    self.public_chain = copy.copy(self.private_chain)\n",
    "                    self.private_branch_length = 0\n",
    "            \n",
    "            else:\n",
    "                prev_diff = len(self.private_chain) - len(self.public_chain)\n",
    "                self.public_chain.append('h')\n",
    "                \n",
    "                # Honest miners win race.\n",
    "                if prev_diff == 0:\n",
    "                    self.private_chain = copy.copy(self.public_chain)\n",
    "                    self.private_branch_length = 0\n",
    "                \n",
    "                # Selfish miners were 1 ahead and honest caught them.\n",
    "                elif prev_diff == 1:\n",
    "                    # Probability of winning is all selfish miners and all honest miners who\n",
    "                    # use the selfish block to mine on.\n",
    "                    total_compute_power = self.alpha + (1 - self.alpha)*self.gamma\n",
    "                    if np.random.uniform() < total_compute_power:\n",
    "                        self.public_chain = copy.copy(self.private_chain)\n",
    "                \n",
    "                # Selfish was 2 ahead and now published entire private.\n",
    "                elif prev_diff == 2:\n",
    "                    self.public_chain = copy.copy(self.private_chain)\n",
    "                    self.private_branch_length = 0\n",
    "                \n",
    "                # 3+ lead for selfish.\n",
    "                else:\n",
    "                    total_compute_power = self.alpha + (1 - self.alpha)*self.gamma\n",
    "                    if np.random.uniform() < total_compute_power:\n",
    "                        self.public_chain[-1] = 's'\n",
    "        \n",
    "        # At end if selfish have lead they publish them all.\n",
    "        if self.private_branch_length > 0:\n",
    "            self.public_chain = copy.copy(self.private_chain)"
   ]
  },
  {
   "cell_type": "code",
   "execution_count": 53,
   "metadata": {},
   "outputs": [
    {
     "name": "stderr",
     "output_type": "stream",
     "text": [
      "100% (11 of 11) |########################| Elapsed Time: 0:03:34 Time:  0:03:34\n"
     ]
    }
   ],
   "source": [
    "results = []\n",
    "bar = progressbar.ProgressBar()\n",
    "for alpha in bar(np.linspace(0, 0.5, 11)):\n",
    "    sim = Simulator(alpha, 1)\n",
    "    sim.simulate()\n",
    "    results.append(sim.public_chain.count('s') / len(sim.public_chain))"
   ]
  },
  {
   "cell_type": "code",
   "execution_count": 59,
   "metadata": {},
   "outputs": [
    {
     "data": {
      "image/png": "[encoded data removed]",
      "text/plain": [
       "<Figure size 864x504 with 1 Axes>"
      ]
     },
     "metadata": {
      "needs_background": "light"
     },
     "output_type": "display_data"
    }
   ],
   "source": [
    "f, ax = plt.subplots(figsize=(12,7))\n",
    "ax.plot(np.linspace(0, 0.5, 11), results, '.', label='selfish')\n",
    "ax.plot(np.linspace(0, 0.5, 11), np.linspace(0, 0.5, 11), '.', label='honest')\n",
    "ax.set_xlabel('alpha')\n",
    "ax.set_ylabel('rewards')\n",
    "plt.legend()\n",
    "plt.savefig('selfish-rewards.png')\n",
    "plt.show()"
   ]
  }
 ],
 "metadata": {
  "kernelspec": {
   "display_name": "Python 3",
   "language": "python",
   "name": "python3"
  },
  "language_info": {
   "codemirror_mode": {
    "name": "ipython",
    "version": 3
   },
   "file_extension": ".py",
   "mimetype": "text/x-python",
   "name": "python",
   "nbconvert_exporter": "python",
   "pygments_lexer": "ipython3",
   "version": "3.6.8"
  }
 },
 "nbformat": 4,
 "nbformat_minor": 2
}

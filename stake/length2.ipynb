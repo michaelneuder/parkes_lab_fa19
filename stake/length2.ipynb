{
 "cells": [
  {
   "cell_type": "code",
   "execution_count": 1,
   "metadata": {},
   "outputs": [],
   "source": [
    "import itertools\n",
    "import numpy as np\n",
    "import scipy.special as ss"
   ]
  },
  {
   "cell_type": "code",
   "execution_count": 6,
   "metadata": {},
   "outputs": [],
   "source": [
    "p_vals = np.arange(1,20)\n",
    "n_vals = np.arange(1,20)\n",
    "e_vals = np.arange(33)\n",
    "\n",
    "attack_length = 2\n",
    "e_lists = list(itertools.product(*[e_vals]*attack_length))\n",
    "\n",
    "# cartesian product of possible values of p, n, (e_{ell-1}, e_ell)\n",
    "vectors = list(itertools.product(*[p_vals, n_vals, e_lists]))"
   ]
  },
  {
   "cell_type": "code",
   "execution_count": 7,
   "metadata": {},
   "outputs": [],
   "source": [
    "def calcDelayDifference(p, n, e_list):\n",
    "    e_ell = e_list[1]\n",
    "    return 40 * (p - n) + 8 * max(24-e_ell, 0) - 8 * max(e_ell-8, 0)\n",
    "\n",
    "def calcRewardDifference(p, e_list):\n",
    "    block_reward = 16 * (1/(p+1) + 0.8 + 0.2 * (e_list[1] / 32) - 1)\n",
    "    endorse_reward = 2 * e_list[0] * (1/(p+1) - 1)\n",
    "    return block_reward + endorse_reward\n",
    "\n",
    "def calcProb(alpha, p, n, e_list):\n",
    "    binoms = [ss.binom(32, e) for e in e_list]\n",
    "    return np.product(binoms) * np.power(alpha, n + sum(e_list) + 1) * np.power(1- alpha,65  + p - sum(e_list))"
   ]
  },
  {
   "cell_type": "code",
   "execution_count": 8,
   "metadata": {},
   "outputs": [
    {
     "name": "stdout",
     "output_type": "stream",
     "text": [
      "0.1 0.2194549402046173 0.5373286518697472 1.2778934833279758e-05\n",
      "4.175322302218746e-07\n",
      "0.15000000000000002 4.18691885483562 7.9388106170355055 0.00012586901663234882\n",
      "7.965979556384361e-06\n",
      "0.20000000000000004 28.593946574699782 45.944812931313606 0.0005463376727943492\n",
      "5.440248587271648e-05\n",
      "0.25000000000000006 98.08946291515483 130.5772418345174 0.0012421731529158808\n",
      "0.00018662378789032502\n",
      "0.30000000000000004 188.46917704995806 203.82074442575762 0.0016157783519292045\n",
      "0.00035857910397632813\n",
      "0.3500000000000001 209.63579897072066 190.1816476419517 0.0012922758183976928\n",
      "0.00039885045466271055\n",
      "0.40000000000000013 136.9647193970565 110.79044726051377 0.000658714131828587\n",
      "0.00026058736567172093\n"
     ]
    }
   ],
   "source": [
    "# minutes in a year\n",
    "C = 365 * 24 * 60\n",
    "for alpha in np.arange(0.1, 0.45, 0.05):\n",
    "    probabilites = []\n",
    "    values = []\n",
    "    for p, n, e_list in vectors:\n",
    "        reward = calcRewardDifference(p, e_list)\n",
    "        # if feasible and profitable\n",
    "        if (calcDelayDifference(p, n, e_list) <= 0) and (reward > 0):\n",
    "            prob = calcProb(alpha, p, n, e_list)\n",
    "            probabilites.append(prob)\n",
    "            values.append(prob * reward)\n",
    "    # expected reward per minute is alpha * (block reward + total endorse reward)\n",
    "    expected_reward = alpha * ( 16 +  2 * 32 )\n",
    "    percent_increase = 100 * sum(values) / expected_reward \n",
    "    \n",
    "    print(alpha, sum(probabilites) * C, sum(values) * C, percent_increase)\n",
    "    print(sum(probabilites))"
   ]
  }
 ],
 "metadata": {
  "kernelspec": {
   "display_name": "Python 3",
   "language": "python",
   "name": "python3"
  },
  "language_info": {
   "codemirror_mode": {
    "name": "ipython",
    "version": 3
   },
   "file_extension": ".py",
   "mimetype": "text/x-python",
   "name": "python",
   "nbconvert_exporter": "python",
   "pygments_lexer": "ipython3",
   "version": "3.6.8"
  }
 },
 "nbformat": 4,
 "nbformat_minor": 2
}

{
 "cells": [
  {
   "cell_type": "code",
   "execution_count": 1,
   "metadata": {},
   "outputs": [],
   "source": [
    "import itertools\n",
    "import numpy as np\n",
    "import scipy.special as ss"
   ]
  },
  {
   "cell_type": "code",
   "execution_count": 2,
   "metadata": {},
   "outputs": [],
   "source": [
    "p_vals = np.arange(1,20)\n",
    "n_vals = np.arange(1,20)\n",
    "e_vals = np.arange(33)\n",
    "\n",
    "attack_length = 2\n",
    "e_lists = list(itertools.product(*[e_vals]*attack_length))\n",
    "\n",
    "# cartesian product of possible values of p, n, (e_{ell-1}, e_ell)\n",
    "vectors = list(itertools.product(*[p_vals, n_vals, e_lists]))"
   ]
  },
  {
   "cell_type": "code",
   "execution_count": 3,
   "metadata": {},
   "outputs": [],
   "source": [
    "def calcDelayDifference(p, n, e_list):\n",
    "    e_ell = e_list[1]\n",
    "    return 40 * (p - n) + 8 * max(24-e_ell, 0) - 8 * max(e_ell-8, 0)\n",
    "\n",
    "def calcRewardDifference(p, e_list):\n",
    "    block_reward = 16 * (1/(p+1) + 0.8 + 0.2 * (e_list[1] / 32) - 1)\n",
    "    endorse_reward = 2 * e_list[0] * (1/(p+1) - 1)\n",
    "    return block_reward + endorse_reward\n",
    "\n",
    "def calcProb(alpha, p, n, e_list):\n",
    "    binoms = [ss.binom(32, e) for e in e_list]\n",
    "    return np.product(binoms) * np.power(alpha, n + sum(e_list) + 1) * np.power(1- alpha,65  + p - sum(e_list))"
   ]
  },
  {
   "cell_type": "code",
   "execution_count": 4,
   "metadata": {},
   "outputs": [
    {
     "name": "stdout",
     "output_type": "stream",
     "text": [
      "0.1 0.1400478103939502 0.3481601176903832 8.280063681753786e-06\n",
      "0.15000000000000002 3.1441967897518857 5.963641278394176 9.45529122018356e-05\n",
      "0.20000000000000004 22.1276708060534 34.854770510535786 0.0004144640709491031\n",
      "0.25000000000000006 77.32232288231205 100.17002304086098 0.000952911178090382\n",
      "0.30000000000000004 152.09882475542113 160.2309862778126 0.0012702228110557188\n",
      "0.3500000000000001 172.4561129736277 153.66326313120047 0.0010441350234507531\n",
      "0.40000000000000013 115.17202728903314 92.6669383674577 0.0005509592511383281\n"
     ]
    }
   ],
   "source": [
    "# minutes in a year\n",
    "C = 365 * 24 * 60\n",
    "for alpha in np.arange(0.1, 0.45, 0.05):\n",
    "    probabilites = []\n",
    "    values = []\n",
    "    for p, n, e_list in vectors:\n",
    "        reward = calcRewardDifference(p, e_list)\n",
    "        # if feasible and profitable\n",
    "        if (calcDelayDifference(p, n, e_list) < 0) and (reward > 0):\n",
    "            prob = calcProb(alpha, p, n, e_list)\n",
    "            probabilites.append(prob)\n",
    "            values.append(prob * reward)\n",
    "    # expected reward per minute is alpha * (block reward + total endorse reward)\n",
    "    expected_reward = alpha * ( 16 +  2 * 32 )\n",
    "    percent_increase = 100 * sum(values) / expected_reward \n",
    "    \n",
    "    print(alpha, sum(probabilites) * C, sum(values) * C, percent_increase)"
   ]
  }
 ],
 "metadata": {
  "kernelspec": {
   "display_name": "Python 3",
   "language": "python",
   "name": "python3"
  },
  "language_info": {
   "codemirror_mode": {
    "name": "ipython",
    "version": 3
   },
   "file_extension": ".py",
   "mimetype": "text/x-python",
   "name": "python",
   "nbconvert_exporter": "python",
   "pygments_lexer": "ipython3",
   "version": "3.6.8"
  }
 },
 "nbformat": 4,
 "nbformat_minor": 2
}

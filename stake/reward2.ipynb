{
 "cells": [
  {
   "cell_type": "code",
   "execution_count": 1,
   "metadata": {},
   "outputs": [],
   "source": [
    "import itertools\n",
    "import numpy as np\n",
    "import scipy.special as ss"
   ]
  },
  {
   "cell_type": "code",
   "execution_count": 2,
   "metadata": {},
   "outputs": [],
   "source": [
    "p_vals = np.arange(1,20)\n",
    "n_vals = np.arange(1,20)\n",
    "e_vals = np.arange(33)\n",
    "\n",
    "attack_length = 2\n",
    "e_lists = list(itertools.product(*[e_vals]*attack_length))\n",
    "\n",
    "# cartesian product of possible values of p, n, (e_{ell-1}, e_ell)\n",
    "vectors = list(itertools.product(*[p_vals, n_vals, e_lists]))"
   ]
  },
  {
   "cell_type": "code",
   "execution_count": 3,
   "metadata": {},
   "outputs": [],
   "source": [
    "def calcDelayDifferenceStandard(p, n, e_list):\n",
    "    e_ell = e_list[1]\n",
    "    d_h = 120 + 40 * n + 8 * max(e_ell-8, 0)\n",
    "    d_s = 120 + 40 * p + 8 * max(24-e_ell, 0)\n",
    "    return d_s - d_h\n",
    "\n",
    "def calcProb(alpha, p, n, e_list):\n",
    "    binoms = [ss.binom(32, e) for e in e_list]\n",
    "    return np.product(binoms) * np.power(alpha, n + sum(e_list) + 1) * np.power(1- alpha,65  + p - sum(e_list))"
   ]
  },
  {
   "cell_type": "code",
   "execution_count": 4,
   "metadata": {},
   "outputs": [],
   "source": [
    "def calcRewardDifferenceRA2(p, e_list):\n",
    "    e_ellminus1 = e_list[0]\n",
    "    e_ell = e_list[1]\n",
    "    r_h = 1.25 * (sum(e_list)) + 1.25*32\n",
    "    r_s = 2.5 * (e_ellminus1 / (p + 1) + e_ell)\n",
    "    return r_s - r_h"
   ]
  },
  {
   "cell_type": "code",
   "execution_count": 5,
   "metadata": {},
   "outputs": [
    {
     "name": "stdout",
     "output_type": "stream",
     "text": [
      "0.1 0\n",
      "0.15000000000000002 0\n",
      "0.20000000000000004 0\n",
      "0.25000000000000006 0\n",
      "0.30000000000000004 0\n",
      "0.3500000000000001 0\n",
      "0.40000000000000013 0\n"
     ]
    }
   ],
   "source": [
    "for alpha in np.arange(0.1, 0.45, 0.05):\n",
    "    probabilites = []\n",
    "    for p, n, e_list in vectors:\n",
    "        reward = calcRewardDifferenceRA2(p, e_list)\n",
    "        # if feasible and profitable\n",
    "        if (calcDelayDifferenceStandard(p, n, e_list) <= 0) and (reward > 0):\n",
    "            prob = calcProb(alpha, p, n, e_list)\n",
    "            probabilites.append(prob)\n",
    "    print(alpha, sum(probabilites))"
   ]
  }
 ],
 "metadata": {
  "kernelspec": {
   "display_name": "Python 3",
   "language": "python",
   "name": "python3"
  },
  "language_info": {
   "codemirror_mode": {
    "name": "ipython",
    "version": 3
   },
   "file_extension": ".py",
   "mimetype": "text/x-python",
   "name": "python",
   "nbconvert_exporter": "python",
   "pygments_lexer": "ipython3",
   "version": "3.6.8"
  }
 },
 "nbformat": 4,
 "nbformat_minor": 2
}

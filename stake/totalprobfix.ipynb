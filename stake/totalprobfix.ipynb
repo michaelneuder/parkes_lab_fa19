{
 "cells": [
  {
   "cell_type": "code",
   "execution_count": 1,
   "metadata": {},
   "outputs": [],
   "source": [
    "import matplotlib.pyplot as plt\n",
    "import matplotlib as mpl\n",
    "plt.style.use('fivethirtyeight')\n",
    "mpl.rcParams['axes.facecolor'] = 'w'\n",
    "mpl.rcParams['figure.facecolor'] = 'w'\n",
    "mpl.rcParams['legend.framealpha'] = 1\n",
    "import numpy as np\n",
    "import scipy.special as ss"
   ]
  },
  {
   "cell_type": "code",
   "execution_count": 151,
   "metadata": {},
   "outputs": [],
   "source": [
    "def calcDelay(p, n, e2):\n",
    "    return 40 * ( p - n ) + 16*(max(24-e2, 0) - max(e2-8, 0))\n",
    "\n",
    "def calcProb(alpha, p, n, e1, e2):\n",
    "    return ss.binom(32, e1) * ss.binom(32, e2) * np.power(alpha, e1 + e2 + n + 1) * np.power(1 - alpha, 64 - e1 - e2) \n",
    "\n",
    "def calcRewardDiff(p, e1, e2):\n",
    "    return 16 * (1/(p+1) + e2/160 - 1/5) + 2 * e2 * (1 / (p+1) - 1)"
   ]
  },
  {
   "cell_type": "code",
   "execution_count": 152,
   "metadata": {},
   "outputs": [],
   "source": [
    "ps = [1, 2, 3, 4, 5, 6, 7, 8, 9, 10, 11, 12]\n",
    "ns = [1, 2, 3, 4, 5, 6, 7, 8, 9, 10, 11, 12]\n",
    "es = np.arange(0, 33)\n",
    "\n",
    "min_prob = 1 / float(5.256e7)"
   ]
  },
  {
   "cell_type": "code",
   "execution_count": 153,
   "metadata": {},
   "outputs": [],
   "source": [
    "alpha = 0.4\n",
    "results = {}\n",
    "for p in ps:\n",
    "    for n in ns:\n",
    "        for e1 in es:\n",
    "            for e2 in es:\n",
    "                if (calcDelay(p, n, e2) < 0) and (calcRewardDiff(p, e1, e2) > 0):\n",
    "                    prob = calcProb(alpha, p, n, e1, e2)\n",
    "                    if prob > min_prob:\n",
    "                        results[(p, n, e1, e2)] = prob"
   ]
  },
  {
   "cell_type": "code",
   "execution_count": 154,
   "metadata": {},
   "outputs": [],
   "source": [
    "total_prob = 0\n",
    "for result in results:\n",
    "    total_prob += results[result]"
   ]
  },
  {
   "cell_type": "code",
   "execution_count": 155,
   "metadata": {},
   "outputs": [
    {
     "data": {
      "text/plain": [
       "1.592623439428036e-07"
      ]
     },
     "execution_count": 155,
     "metadata": {},
     "output_type": "execute_result"
    }
   ],
   "source": [
    "total_prob"
   ]
  },
  {
   "cell_type": "code",
   "execution_count": 156,
   "metadata": {},
   "outputs": [
    {
     "data": {
      "text/plain": [
       "0.08370828797633757"
      ]
     },
     "execution_count": 156,
     "metadata": {},
     "output_type": "execute_result"
    }
   ],
   "source": [
    "total_prob * 525600"
   ]
  },
  {
   "cell_type": "code",
   "execution_count": 157,
   "metadata": {},
   "outputs": [
    {
     "data": {
      "text/plain": [
       "[(1, 9, 13, 5),\n",
       " (1, 9, 12, 5),\n",
       " (1, 9, 14, 5),\n",
       " (1, 9, 11, 5),\n",
       " (1, 9, 15, 5),\n",
       " (1, 9, 10, 5)]"
      ]
     },
     "execution_count": 157,
     "metadata": {},
     "output_type": "execute_result"
    }
   ],
   "source": [
    "sorted(results, key=results.__getitem__, reverse=True)"
   ]
  },
  {
   "cell_type": "code",
   "execution_count": 14,
   "metadata": {},
   "outputs": [
    {
     "data": {
      "text/plain": [
       "[2.7357091006426208e-08, 2.4621381905783588e-08, 2.203765664406556e-08]"
      ]
     },
     "execution_count": 14,
     "metadata": {},
     "output_type": "execute_result"
    }
   ],
   "source": [
    "sorted(results.values(), reverse=True)"
   ]
  },
  {
   "cell_type": "code",
   "execution_count": 213,
   "metadata": {},
   "outputs": [],
   "source": [
    "def calcRewardDiff(p, e):\n",
    "    return 16 * (1/(p+1) + e/160 - 1/5)"
   ]
  },
  {
   "cell_type": "code",
   "execution_count": null,
   "metadata": {},
   "outputs": [],
   "source": []
  }
 ],
 "metadata": {
  "kernelspec": {
   "display_name": "Python 3",
   "language": "python",
   "name": "python3"
  },
  "language_info": {
   "codemirror_mode": {
    "name": "ipython",
    "version": 3
   },
   "file_extension": ".py",
   "mimetype": "text/x-python",
   "name": "python",
   "nbconvert_exporter": "python",
   "pygments_lexer": "ipython3",
   "version": "3.6.8"
  }
 },
 "nbformat": 4,
 "nbformat_minor": 2
}

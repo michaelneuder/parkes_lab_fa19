{
 "cells": [
  {
   "cell_type": "code",
   "execution_count": 3,
   "metadata": {},
   "outputs": [],
   "source": [
    "import itertools\n",
    "import matplotlib.pyplot as plt\n",
    "import matplotlib as mpl\n",
    "plt.style.use('fivethirtyeight')\n",
    "mpl.rcParams['axes.facecolor'] = 'w'\n",
    "mpl.rcParams['figure.facecolor'] = 'w'\n",
    "mpl.rcParams['legend.framealpha'] = 1\n",
    "import numpy as np\n",
    "import progressbar as pb\n",
    "import scipy.special as ss"
   ]
  },
  {
   "cell_type": "code",
   "execution_count": 4,
   "metadata": {},
   "outputs": [],
   "source": [
    "max_p = 5\n",
    "max_t = 5\n",
    "\n",
    "p_0 = list(itertools.product(*[[0,], np.arange(1, max_t+1)]))\n",
    "p_greater = list(itertools.product(*[np.arange(1, max_p+1), [0,]]))\n",
    "p_and_t_list = p_0 + p_greater\n",
    "slot_list = list(itertools.product(*[p_and_t_list, np.arange(33)]))"
   ]
  },
  {
   "cell_type": "code",
   "execution_count": 5,
   "metadata": {},
   "outputs": [],
   "source": [
    "attack_length = 2\n",
    "length_n_lists = list(itertools.product(*[slot_list]*attack_length))"
   ]
  },
  {
   "cell_type": "code",
   "execution_count": 6,
   "metadata": {},
   "outputs": [
    {
     "data": {
      "text/plain": [
       "108900"
      ]
     },
     "execution_count": 6,
     "metadata": {},
     "output_type": "execute_result"
    }
   ],
   "source": [
    "len(length_n_lists)"
   ]
  },
  {
   "cell_type": "code",
   "execution_count": 7,
   "metadata": {},
   "outputs": [
    {
     "data": {
      "text/plain": [
       "108900"
      ]
     },
     "execution_count": 7,
     "metadata": {},
     "output_type": "execute_result"
    }
   ],
   "source": [
    "330**2"
   ]
  },
  {
   "cell_type": "code",
   "execution_count": 109,
   "metadata": {},
   "outputs": [],
   "source": [
    "def calcSelfishDelay(p_list, e_list):\n",
    "    return 60 * attack_length + 40 * sum(p_list) + 8 * sum(map(lambda e: max(24 - e, 0), e_list[1:]))\n",
    "\n",
    "def calcHonestDelay(e_list, t_list):\n",
    "    return 60 * attack_length + 40 * sum(t_list) + 8 * sum(map(lambda e: max(e - 8, 0), e_list))\n",
    "\n",
    "def calcDelayDiff(p_list, e_list, t_list):\n",
    "    return calcSelfishDelay(p_list, e_list) - calcHonestDelay(e_list, t_list)"
   ]
  },
  {
   "cell_type": "code",
   "execution_count": 110,
   "metadata": {},
   "outputs": [],
   "source": [
    "def calcProb(alpha, p_list, e_list, t_list):\n",
    "    term1 = np.product(list(map(lambda e : ss.binom(32, e), e_list)))\n",
    "    term2 = np.power(1-alpha, 33*attack_length + sum(p_list) - sum(e_list))\n",
    "    term3 = np.power(alpha, attack_length + sum(t_list) + sum(e_list))\n",
    "    return term1 * term2 * term3"
   ]
  },
  {
   "cell_type": "code",
   "execution_count": 111,
   "metadata": {},
   "outputs": [],
   "source": [
    "def getLists(slots):\n",
    "    p_list = []\n",
    "    t_list = []\n",
    "    e_list = []\n",
    "    for slot in slots:\n",
    "        p_list.append(slot[0][0])\n",
    "        t_list.append(slot[0][1])\n",
    "        e_list.append(slot[1])\n",
    "    return p_list, t_list, e_list"
   ]
  },
  {
   "cell_type": "code",
   "execution_count": 112,
   "metadata": {},
   "outputs": [
    {
     "name": "stderr",
     "output_type": "stream",
     "text": [
      "100% (35937000 of 35937000) |############| Elapsed Time: 0:36:22 Time:  0:36:22\n"
     ]
    }
   ],
   "source": [
    "alpha = 0.4\n",
    "\n",
    "probabilites = []\n",
    "bar = pb.ProgressBar()\n",
    "for slots in bar(length_n_lists):\n",
    "    p_list, t_list, e_list = getLists(slots)\n",
    "    if (calcDelayDiff(p_list, e_list, t_list) < 0):\n",
    "        probabilites.append(calcProb(alpha, p_list, e_list, t_list))"
   ]
  },
  {
   "cell_type": "code",
   "execution_count": 113,
   "metadata": {},
   "outputs": [
    {
     "data": {
      "text/plain": [
       "(0.01621064031969418, 8520.31255203126)"
      ]
     },
     "execution_count": 113,
     "metadata": {},
     "output_type": "execute_result"
    }
   ],
   "source": [
    "sum(probabilites), sum(probabilites) * 365 * 24 * 60"
   ]
  },
  {
   "cell_type": "code",
   "execution_count": 114,
   "metadata": {},
   "outputs": [
    {
     "data": {
      "text/plain": [
       "21112847"
      ]
     },
     "execution_count": 114,
     "metadata": {},
     "output_type": "execute_result"
    }
   ],
   "source": [
    "len(probabilites)"
   ]
  }
 ],
 "metadata": {
  "kernelspec": {
   "display_name": "Python 3",
   "language": "python",
   "name": "python3"
  },
  "language_info": {
   "codemirror_mode": {
    "name": "ipython",
    "version": 3
   },
   "file_extension": ".py",
   "mimetype": "text/x-python",
   "name": "python",
   "nbconvert_exporter": "python",
   "pygments_lexer": "ipython3",
   "version": "3.6.8"
  }
 },
 "nbformat": 4,
 "nbformat_minor": 2
}

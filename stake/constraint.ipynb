{
 "cells": [
  {
   "cell_type": "code",
   "execution_count": 2,
   "metadata": {},
   "outputs": [],
   "source": [
    "from constraint import *\n",
    "import numpy as np"
   ]
  },
  {
   "cell_type": "code",
   "execution_count": 29,
   "metadata": {},
   "outputs": [],
   "source": [
    "problem = Problem()\n",
    "attack_length = 2\n",
    "max_p = 5\n",
    "max_t = 5\n",
    "for i in range(attack_length):\n",
    "    problem.addVariable('p'+str(i), np.arange(max_p+1))\n",
    "    problem.addVariable('t'+str(i), np.arange(max_t+1))\n",
    "    problem.addVariable('e'+str(i), np.arange(33))\n",
    "    problem.addConstraint(lambda p, t : (p==0 or t==0) and (p != t), ('p'+str(i), 't'+str(i)))\n",
    "problem.addConstraint(lambda p0, p1, t0, t1, e0, e1 : calcDelayDiff([p0, p1], [e0, e1], [t0, t1]),\n",
    "                     ('p0', 'p1', 't0', 't1', 'e0', 'e1'))"
   ]
  },
  {
   "cell_type": "code",
   "execution_count": 30,
   "metadata": {},
   "outputs": [],
   "source": [
    "def calcSelfishDelay(p_list, e_list):\n",
    "    return 60 * attack_length + 40 * sum(p_list) + 8 * sum(map(lambda e: max(24 - e, 0), e_list[1:]))\n",
    "\n",
    "def calcHonestDelay(e_list, t_list):\n",
    "    return 60 * attack_length + 40 * sum(t_list) + 8 * sum(map(lambda e: max(e - 8, 0), e_list))\n",
    "\n",
    "def calcDelayDiff(p_list, e_list, t_list):\n",
    "    return calcSelfishDelay(p_list, e_list) - calcHonestDelay(e_list, t_list)"
   ]
  },
  {
   "cell_type": "code",
   "execution_count": 34,
   "metadata": {},
   "outputs": [],
   "source": [
    "sols = problem.getSolutions()"
   ]
  },
  {
   "cell_type": "code",
   "execution_count": 36,
   "metadata": {},
   "outputs": [
    {
     "data": {
      "text/plain": [
       "{'p0': 5, 't0': 0, 'p1': 5, 't1': 0, 'e0': 32, 'e1': 32}"
      ]
     },
     "execution_count": 36,
     "metadata": {},
     "output_type": "execute_result"
    }
   ],
   "source": [
    "sols[0]"
   ]
  }
 ],
 "metadata": {
  "kernelspec": {
   "display_name": "Python 3",
   "language": "python",
   "name": "python3"
  },
  "language_info": {
   "codemirror_mode": {
    "name": "ipython",
    "version": 3
   },
   "file_extension": ".py",
   "mimetype": "text/x-python",
   "name": "python",
   "nbconvert_exporter": "python",
   "pygments_lexer": "ipython3",
   "version": "3.6.8"
  }
 },
 "nbformat": 4,
 "nbformat_minor": 2
}

{
 "cells": [
  {
   "cell_type": "code",
   "execution_count": 46,
   "metadata": {},
   "outputs": [],
   "source": [
    "import itertools\n",
    "import numpy as np\n",
    "import scipy.special as ss"
   ]
  },
  {
   "cell_type": "code",
   "execution_count": 47,
   "metadata": {},
   "outputs": [],
   "source": [
    "p_vals = np.arange(1,20)\n",
    "n_vals = np.arange(1,20)\n",
    "e_vals = np.arange(33)\n",
    "\n",
    "attack_length = 2\n",
    "e_lists = list(itertools.product(*[e_vals]*attack_length))\n",
    "\n",
    "# cartesian product of possible values of p, n, (e_{ell-1}, e_ell)\n",
    "vectors = list(itertools.product(*[p_vals, n_vals, e_lists]))"
   ]
  },
  {
   "cell_type": "markdown",
   "metadata": {},
   "source": [
    "## Standard\n",
    "\n",
    "---"
   ]
  },
  {
   "cell_type": "code",
   "execution_count": 48,
   "metadata": {},
   "outputs": [],
   "source": [
    "def calcDelayDifferenceStandard(p, n, e_list):\n",
    "    e_ell = e_list[1]\n",
    "    d_h = 120 + 40 * n + 8 * max(e_ell-8, 0)\n",
    "    d_s = 120 + 40 * p + 8 * max(24-e_ell, 0)\n",
    "    return d_s - d_h\n",
    "\n",
    "def calcRewardDifferenceStandard(p, e_list):\n",
    "    e_ellminus1 = e_list[0]\n",
    "    e_ell = e_list[1]\n",
    "    r_h = 2 * (sum(e_list)) + 16\n",
    "    r_s = 2 * ((e_ellminus1)/(p+1) + e_ell) + 16 * (1/(p+1) + 4/5 + (e_ell/160))\n",
    "    return r_s - r_h\n",
    "\n",
    "def calcProb(alpha, p, n, e_list):\n",
    "    binoms = [ss.binom(32, e) for e in e_list]\n",
    "    return np.product(binoms) * np.power(alpha, n + sum(e_list) + 1) * np.power(1- alpha,65  + p - sum(e_list))"
   ]
  },
  {
   "cell_type": "code",
   "execution_count": 44,
   "metadata": {},
   "outputs": [
    {
     "name": "stdout",
     "output_type": "stream",
     "text": [
      "0.1 4.175322213000987e-07\n",
      "0.15000000000000002 7.965975938427153e-06\n",
      "0.20000000000000004 5.440239374775996e-05\n",
      "0.25000000000000006 0.0001866233232906129\n",
      "0.30000000000000004 0.0003585783429081201\n",
      "0.3500000000000001 0.0003988499367393525\n",
      "0.40000000000000013 0.0002605871992495778\n"
     ]
    }
   ],
   "source": [
    "for alpha in np.arange(0.1, 0.45, 0.05):\n",
    "    probabilites = []\n",
    "    for p, n, e_list in vectors:\n",
    "        reward = calcRewardDifferenceStandard(p, e_list)\n",
    "        # if feasible and profitable\n",
    "        if (calcDelayDifferenceStandard(p, n, e_list) <= 0) and (reward > 0):\n",
    "            prob = calcProb(alpha, p, n, e_list)\n",
    "            probabilites.append(prob)\n",
    "    print(alpha, sum(probabilites))"
   ]
  },
  {
   "cell_type": "markdown",
   "metadata": {},
   "source": [
    "## Reward Adjustment 1\n",
    "\n",
    "---"
   ]
  },
  {
   "cell_type": "code",
   "execution_count": 53,
   "metadata": {},
   "outputs": [],
   "source": [
    "def calcRewardDifferenceRA1(p, e_list):\n",
    "    e_ellminus1 = e_list[0]\n",
    "    e_ell = e_list[1]\n",
    "    r_h = 2 * (sum(e_list)) + 16\n",
    "    r_s = 2 * ((e_ellminus1)/(p+1) + e_ell) + 16 * (1/(p+1) + (e_ell/32)**2)\n",
    "    return r_s - r_h"
   ]
  },
  {
   "cell_type": "code",
   "execution_count": 54,
   "metadata": {},
   "outputs": [
    {
     "name": "stdout",
     "output_type": "stream",
     "text": [
      "0.1 3.522392592069207e-20\n",
      "0.15000000000000002 8.420298741342167e-17\n",
      "0.20000000000000004 9.488632095555828e-15\n",
      "0.25000000000000006 1.954397919428646e-13\n",
      "0.30000000000000004 1.4175736374099608e-12\n",
      "0.3500000000000001 5.468694317717924e-12\n",
      "0.40000000000000013 1.4235610209187165e-11\n"
     ]
    }
   ],
   "source": [
    "for alpha in np.arange(0.1, 0.45, 0.05):\n",
    "    probabilites = []\n",
    "    for p, n, e_list in vectors:\n",
    "        reward = calcRewardDifferenceRA1(p, e_list)\n",
    "        # if feasible and profitable\n",
    "        if (calcDelayDifferenceStandard(p, n, e_list) <= 0) and (reward > 0):\n",
    "            prob = calcProb(alpha, p, n, e_list)\n",
    "            probabilites.append(prob)\n",
    "    print(alpha, sum(probabilites))"
   ]
  },
  {
   "cell_type": "markdown",
   "metadata": {},
   "source": [
    "## Reward Adjustment 2\n",
    "\n",
    "---"
   ]
  },
  {
   "cell_type": "code",
   "execution_count": 55,
   "metadata": {},
   "outputs": [],
   "source": [
    "def calcRewardDifferenceRA2(p, e_list):\n",
    "    e_ellminus1 = e_list[0]\n",
    "    e_ell = e_list[1]\n",
    "    r_h = 1.25 * (sum(e_list)) + 1.25*16\n",
    "    r_s = 2.5 * (e_ellminus1 / (p + 1) + e_ell)\n",
    "    return r_s - r_h"
   ]
  },
  {
   "cell_type": "code",
   "execution_count": 57,
   "metadata": {},
   "outputs": [
    {
     "name": "stdout",
     "output_type": "stream",
     "text": [
      "0.1 0\n",
      "0.15000000000000002 0\n",
      "0.20000000000000004 0\n",
      "0.25000000000000006 0\n",
      "0.30000000000000004 0\n",
      "0.3500000000000001 0\n",
      "0.40000000000000013 0\n"
     ]
    }
   ],
   "source": [
    "for alpha in np.arange(0.1, 0.45, 0.05):\n",
    "    probabilites = []\n",
    "    for p, n, e_list in vectors:\n",
    "        reward = calcRewardDifferenceRA2(p, e_list)\n",
    "        # if feasible and profitable\n",
    "        if (calcDelayDifferenceStandard(p, n, e_list) <= 0) and (reward > 0):\n",
    "            prob = calcProb(alpha, p, n, e_list)\n",
    "            probabilites.append(prob)\n",
    "    print(alpha, sum(probabilites))"
   ]
  }
 ],
 "metadata": {
  "kernelspec": {
   "display_name": "Python 3",
   "language": "python",
   "name": "python3"
  },
  "language_info": {
   "codemirror_mode": {
    "name": "ipython",
    "version": 3
   },
   "file_extension": ".py",
   "mimetype": "text/x-python",
   "name": "python",
   "nbconvert_exporter": "python",
   "pygments_lexer": "ipython3",
   "version": "3.6.8"
  }
 },
 "nbformat": 4,
 "nbformat_minor": 2
}
